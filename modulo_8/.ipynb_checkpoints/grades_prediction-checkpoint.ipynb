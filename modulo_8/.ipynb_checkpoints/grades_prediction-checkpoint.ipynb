{
 "cells": [
  {
   "cell_type": "code",
   "execution_count": 7,
   "metadata": {},
   "outputs": [],
   "source": [
    "import pandas as pd\n",
    "import numpy as np\n",
    "from tqdm import tqdm_notebook\n",
    "import time\n",
    "\n",
    "#Visualization\n",
    "import matplotlib.pyplot as plt\n",
    "import altair as alt\n",
    "import seaborn as sns\n",
    "\n",
    "#Data preparation\n",
    "from sklearn.preprocessing import StandardScaler, MinMaxScaler\n",
    "\n",
    "#Models\n",
    "from sklearn.linear_model import LinearRegression                             \n",
    "from sklearn.neighbors import KNeighborsRegressor\n",
    "from sklearn.ensemble import RandomForestRegressor\n",
    "import lightgbm as lgb\n",
    "import xgboost as xgb\n",
    "\n",
    "#Metrics\n",
    "from sklearn.metrics import (explained_variance_score, max_error, \n",
    "                             mean_absolute_error, mean_squared_error, \n",
    "                             median_absolute_error, r2_score)\n",
    "\n",
    "from sklearn.model_selection import train_test_split, GridSearchCV\n",
    "from imblearn.pipeline import Pipeline\n",
    "from collections import Counter\n",
    "\n",
    "%matplotlib inline\n",
    "\n",
    "import warnings\n",
    "warnings.filterwarnings(\"ignore\")"
   ]
  },
  {
   "cell_type": "markdown",
   "metadata": {},
   "source": [
    "### Import data"
   ]
  },
  {
   "cell_type": "code",
   "execution_count": 8,
   "metadata": {},
   "outputs": [],
   "source": [
    "# Base de Treino\n",
    "df_train = pd.read_csv(\"train.csv\")\n",
    "\n",
    "# Base de Teste\n",
    "df_test = pd.read_csv(\"test.csv\")\n",
    "df_test_n = pd.read_csv(\"test.csv\")"
   ]
  },
  {
   "cell_type": "code",
   "execution_count": 9,
   "metadata": {},
   "outputs": [
    {
     "data": {
      "text/plain": [
       "((13730, 167), 13730, 2016    13730\n",
       " Name: NU_ANO, dtype: int64)"
      ]
     },
     "execution_count": 9,
     "metadata": {},
     "output_type": "execute_result"
    }
   ],
   "source": [
    "df_train.shape, df_train.NU_INSCRICAO.nunique(), df_train.NU_ANO.value_counts()"
   ]
  },
  {
   "cell_type": "code",
   "execution_count": 10,
   "metadata": {},
   "outputs": [
    {
     "data": {
      "text/plain": [
       "(4576, 47)"
      ]
     },
     "execution_count": 10,
     "metadata": {},
     "output_type": "execute_result"
    }
   ],
   "source": [
    "df_test.shape"
   ]
  },
  {
   "cell_type": "code",
   "execution_count": 11,
   "metadata": {},
   "outputs": [],
   "source": [
    "# Temos apenas 47 features na base de teste, portanto é interessante treinar apenas com features em comum\n",
    "\n",
    "x_features = set.intersection(set(df_test.columns.to_list()), set(df_train.columns.to_list()))\n",
    "\n",
    "target = df_train.NU_NOTA_MT\n",
    "df_train = df_train[x_features] # 13730, 48\n",
    "df_train['istrain'] = 1\n",
    "df_test = df_test[x_features] # 4576, 47\n",
    "\n",
    "df_full = pd.concat([df_train,df_test], axis = 0, sort = False).reset_index(drop = True)\n",
    "df_full.istrain.fillna(0,inplace=True)\n",
    "\n",
    "df_num = df_full.select_dtypes(exclude='object') # 18306, 33\n",
    "df_str = df_full.select_dtypes(include='object') # 18306, 15"
   ]
  },
  {
   "cell_type": "code",
   "execution_count": 12,
   "metadata": {},
   "outputs": [
    {
     "data": {
      "text/html": [
       "<div>\n",
       "<style scoped>\n",
       "    .dataframe tbody tr th:only-of-type {\n",
       "        vertical-align: middle;\n",
       "    }\n",
       "\n",
       "    .dataframe tbody tr th {\n",
       "        vertical-align: top;\n",
       "    }\n",
       "\n",
       "    .dataframe thead th {\n",
       "        text-align: right;\n",
       "    }\n",
       "</style>\n",
       "<table border=\"1\" class=\"dataframe\">\n",
       "  <thead>\n",
       "    <tr style=\"text-align: right;\">\n",
       "      <th></th>\n",
       "      <th>TP_COR_RACA</th>\n",
       "      <th>TP_ANO_CONCLUIU</th>\n",
       "      <th>IN_BAIXA_VISAO</th>\n",
       "      <th>NU_NOTA_LC</th>\n",
       "      <th>TP_DEPENDENCIA_ADM_ESC</th>\n",
       "      <th>NU_NOTA_CN</th>\n",
       "      <th>Q025</th>\n",
       "      <th>NU_NOTA_CH</th>\n",
       "      <th>NU_IDADE</th>\n",
       "      <th>IN_SURDEZ</th>\n",
       "      <th>...</th>\n",
       "      <th>TP_STATUS_REDACAO</th>\n",
       "      <th>TP_ST_CONCLUSAO</th>\n",
       "      <th>TP_SEXO</th>\n",
       "      <th>CO_PROVA_CN</th>\n",
       "      <th>TP_PRESENCA_CH</th>\n",
       "      <th>NU_NOTA_COMP4</th>\n",
       "      <th>TP_ENSINO</th>\n",
       "      <th>CO_UF_RESIDENCIA</th>\n",
       "      <th>Q047</th>\n",
       "      <th>istrain</th>\n",
       "    </tr>\n",
       "  </thead>\n",
       "  <tbody>\n",
       "    <tr>\n",
       "      <th>0</th>\n",
       "      <td>1</td>\n",
       "      <td>4</td>\n",
       "      <td>0</td>\n",
       "      <td>581.2</td>\n",
       "      <td>NaN</td>\n",
       "      <td>436.3</td>\n",
       "      <td>A</td>\n",
       "      <td>495.4</td>\n",
       "      <td>24</td>\n",
       "      <td>0</td>\n",
       "      <td>...</td>\n",
       "      <td>1.0</td>\n",
       "      <td>1</td>\n",
       "      <td>M</td>\n",
       "      <td>16f84b7b3d2aeaff7d2f01297e6b3d0e25c77bb2</td>\n",
       "      <td>1</td>\n",
       "      <td>80.0</td>\n",
       "      <td>NaN</td>\n",
       "      <td>43</td>\n",
       "      <td>A</td>\n",
       "      <td>1.0</td>\n",
       "    </tr>\n",
       "    <tr>\n",
       "      <th>1</th>\n",
       "      <td>3</td>\n",
       "      <td>0</td>\n",
       "      <td>0</td>\n",
       "      <td>599.0</td>\n",
       "      <td>2.0</td>\n",
       "      <td>474.5</td>\n",
       "      <td>A</td>\n",
       "      <td>544.1</td>\n",
       "      <td>17</td>\n",
       "      <td>0</td>\n",
       "      <td>...</td>\n",
       "      <td>1.0</td>\n",
       "      <td>2</td>\n",
       "      <td>F</td>\n",
       "      <td>b9b06ce8c319a3df2158ea3d0aef0f7d3eecaed7</td>\n",
       "      <td>1</td>\n",
       "      <td>120.0</td>\n",
       "      <td>1.0</td>\n",
       "      <td>23</td>\n",
       "      <td>A</td>\n",
       "      <td>1.0</td>\n",
       "    </tr>\n",
       "    <tr>\n",
       "      <th>2</th>\n",
       "      <td>3</td>\n",
       "      <td>0</td>\n",
       "      <td>0</td>\n",
       "      <td>NaN</td>\n",
       "      <td>NaN</td>\n",
       "      <td>NaN</td>\n",
       "      <td>A</td>\n",
       "      <td>NaN</td>\n",
       "      <td>21</td>\n",
       "      <td>0</td>\n",
       "      <td>...</td>\n",
       "      <td>NaN</td>\n",
       "      <td>3</td>\n",
       "      <td>F</td>\n",
       "      <td>2d22ac1d42e6187f09ee6c578df187a760123ccf</td>\n",
       "      <td>0</td>\n",
       "      <td>NaN</td>\n",
       "      <td>NaN</td>\n",
       "      <td>23</td>\n",
       "      <td>A</td>\n",
       "      <td>1.0</td>\n",
       "    </tr>\n",
       "    <tr>\n",
       "      <th>3</th>\n",
       "      <td>0</td>\n",
       "      <td>9</td>\n",
       "      <td>0</td>\n",
       "      <td>NaN</td>\n",
       "      <td>NaN</td>\n",
       "      <td>NaN</td>\n",
       "      <td>B</td>\n",
       "      <td>NaN</td>\n",
       "      <td>25</td>\n",
       "      <td>0</td>\n",
       "      <td>...</td>\n",
       "      <td>NaN</td>\n",
       "      <td>1</td>\n",
       "      <td>F</td>\n",
       "      <td>2d22ac1d42e6187f09ee6c578df187a760123ccf</td>\n",
       "      <td>0</td>\n",
       "      <td>NaN</td>\n",
       "      <td>NaN</td>\n",
       "      <td>33</td>\n",
       "      <td>D</td>\n",
       "      <td>1.0</td>\n",
       "    </tr>\n",
       "    <tr>\n",
       "      <th>4</th>\n",
       "      <td>2</td>\n",
       "      <td>4</td>\n",
       "      <td>0</td>\n",
       "      <td>NaN</td>\n",
       "      <td>NaN</td>\n",
       "      <td>NaN</td>\n",
       "      <td>A</td>\n",
       "      <td>NaN</td>\n",
       "      <td>28</td>\n",
       "      <td>0</td>\n",
       "      <td>...</td>\n",
       "      <td>NaN</td>\n",
       "      <td>1</td>\n",
       "      <td>M</td>\n",
       "      <td>2d22ac1d42e6187f09ee6c578df187a760123ccf</td>\n",
       "      <td>0</td>\n",
       "      <td>NaN</td>\n",
       "      <td>NaN</td>\n",
       "      <td>13</td>\n",
       "      <td>A</td>\n",
       "      <td>1.0</td>\n",
       "    </tr>\n",
       "  </tbody>\n",
       "</table>\n",
       "<p>5 rows × 48 columns</p>\n",
       "</div>"
      ],
      "text/plain": [
       "   TP_COR_RACA  TP_ANO_CONCLUIU  IN_BAIXA_VISAO  NU_NOTA_LC  \\\n",
       "0            1                4               0       581.2   \n",
       "1            3                0               0       599.0   \n",
       "2            3                0               0         NaN   \n",
       "3            0                9               0         NaN   \n",
       "4            2                4               0         NaN   \n",
       "\n",
       "   TP_DEPENDENCIA_ADM_ESC  NU_NOTA_CN Q025  NU_NOTA_CH  NU_IDADE  IN_SURDEZ  \\\n",
       "0                     NaN       436.3    A       495.4        24          0   \n",
       "1                     2.0       474.5    A       544.1        17          0   \n",
       "2                     NaN         NaN    A         NaN        21          0   \n",
       "3                     NaN         NaN    B         NaN        25          0   \n",
       "4                     NaN         NaN    A         NaN        28          0   \n",
       "\n",
       "   ... TP_STATUS_REDACAO TP_ST_CONCLUSAO  TP_SEXO  \\\n",
       "0  ...               1.0               1        M   \n",
       "1  ...               1.0               2        F   \n",
       "2  ...               NaN               3        F   \n",
       "3  ...               NaN               1        F   \n",
       "4  ...               NaN               1        M   \n",
       "\n",
       "                                CO_PROVA_CN  TP_PRESENCA_CH NU_NOTA_COMP4  \\\n",
       "0  16f84b7b3d2aeaff7d2f01297e6b3d0e25c77bb2               1          80.0   \n",
       "1  b9b06ce8c319a3df2158ea3d0aef0f7d3eecaed7               1         120.0   \n",
       "2  2d22ac1d42e6187f09ee6c578df187a760123ccf               0           NaN   \n",
       "3  2d22ac1d42e6187f09ee6c578df187a760123ccf               0           NaN   \n",
       "4  2d22ac1d42e6187f09ee6c578df187a760123ccf               0           NaN   \n",
       "\n",
       "   TP_ENSINO  CO_UF_RESIDENCIA  Q047 istrain  \n",
       "0        NaN                43     A     1.0  \n",
       "1        1.0                23     A     1.0  \n",
       "2        NaN                23     A     1.0  \n",
       "3        NaN                33     D     1.0  \n",
       "4        NaN                13     A     1.0  \n",
       "\n",
       "[5 rows x 48 columns]"
      ]
     },
     "execution_count": 12,
     "metadata": {},
     "output_type": "execute_result"
    }
   ],
   "source": [
    "df_full.head()"
   ]
  },
  {
   "cell_type": "code",
   "execution_count": 13,
   "metadata": {},
   "outputs": [
    {
     "name": "stdout",
     "output_type": "stream",
     "text": [
      "Int64:\n",
      "['TP_COR_RACA' 'TP_ANO_CONCLUIU' 'IN_BAIXA_VISAO' 'NU_IDADE' 'IN_SURDEZ'\n",
      " 'IN_CEGUEIRA' 'TP_NACIONALIDADE' 'IN_DISLEXIA' 'IN_IDOSO'\n",
      " 'TP_PRESENCA_LC' 'TP_ESCOLA' 'IN_GESTANTE' 'TP_LINGUA' 'IN_TREINEIRO'\n",
      " 'IN_DISCALCULIA' 'IN_SABATISTA' 'TP_PRESENCA_CN' 'TP_ST_CONCLUSAO'\n",
      " 'TP_PRESENCA_CH' 'CO_UF_RESIDENCIA']\n",
      "\n",
      "Float64:\n",
      "['NU_NOTA_LC' 'TP_DEPENDENCIA_ADM_ESC' 'NU_NOTA_CN' 'NU_NOTA_CH'\n",
      " 'NU_NOTA_COMP3' 'NU_NOTA_REDACAO' 'NU_NOTA_COMP2' 'NU_NOTA_COMP1'\n",
      " 'NU_NOTA_COMP5' 'TP_STATUS_REDACAO' 'NU_NOTA_COMP4' 'TP_ENSINO' 'istrain']\n",
      "\n",
      "Strings:\n",
      "['Q025' 'Q006' 'Q002' 'SG_UF_RESIDENCIA' 'CO_PROVA_MT' 'Q026' 'Q027'\n",
      " 'NU_INSCRICAO' 'Q001' 'CO_PROVA_LC' 'CO_PROVA_CH' 'Q024' 'TP_SEXO'\n",
      " 'CO_PROVA_CN' 'Q047']\n"
     ]
    }
   ],
   "source": [
    "print('Int64:')\n",
    "print(df_full.select_dtypes(include='Int64').columns.values)\n",
    "print('\\nFloat64:')\n",
    "print(df_full.select_dtypes(include='Float64').columns.values)\n",
    "print('\\nStrings:')\n",
    "print(df_full.select_dtypes(include='object').columns.values)"
   ]
  },
  {
   "cell_type": "markdown",
   "metadata": {},
   "source": [
    "### Data Cleaning"
   ]
  },
  {
   "cell_type": "code",
   "execution_count": 14,
   "metadata": {},
   "outputs": [],
   "source": [
    "#Returns null values (%)\n",
    "def get_nans(df):\n",
    "    nan_dic = {}\n",
    "    for col in df.columns:\n",
    "        if df[col].isnull().any() == True:\n",
    "            nan_dic[col] = df[col].isnull().sum()\n",
    "    return pd.DataFrame({\n",
    "        'Feature': list(nan_dic.keys()),\n",
    "        'Nulls': list(nan_dic.values()),\n",
    "        'Percent': np.round((np.array(list(nan_dic.values())) / df.shape[0])*100, decimals = 1)\n",
    "    }).sort_values('Nulls',ascending = False)\n",
    "\n",
    "#Returns 0 values (%)\n",
    "def get_zeros(df):\n",
    "    zero_dic = {}\n",
    "    for col in df.columns:\n",
    "        if (df[col] == 0).sum() > 0:\n",
    "            zero_dic[col] = (df[col] == 0).sum()\n",
    "    return pd.DataFrame({'Feature': list(zero_dic.keys()),\n",
    "                        'Zeros': list(zero_dic.values()),\n",
    "                        'Percent': np.round((np.array(list(zero_dic.values())) / df.shape[0])*100, decimals = 1)\n",
    "    }).sort_values('Zeros',ascending = False)"
   ]
  },
  {
   "cell_type": "code",
   "execution_count": 15,
   "metadata": {},
   "outputs": [
    {
     "name": "stdout",
     "output_type": "stream",
     "text": [
      "Sumário dos nulos:\n",
      "                   Feature  Nulls  Percent\n",
      "1   TP_DEPENDENCIA_ADM_ESC  12544     68.5\n",
      "11               TP_ENSINO  12544     68.5\n",
      "0               NU_NOTA_LC   4796     26.2\n",
      "4            NU_NOTA_COMP3   4796     26.2\n",
      "5          NU_NOTA_REDACAO   4796     26.2\n",
      "6            NU_NOTA_COMP2   4796     26.2\n",
      "7            NU_NOTA_COMP1   4796     26.2\n",
      "8            NU_NOTA_COMP5   4796     26.2\n",
      "9        TP_STATUS_REDACAO   4796     26.2\n",
      "10           NU_NOTA_COMP4   4796     26.2\n",
      "2               NU_NOTA_CN   4523     24.7\n",
      "3               NU_NOTA_CH   4523     24.7\n",
      "\n",
      "Sumário dos zeros:\n",
      "             Feature  Zeros  Percent\n",
      "7        IN_CEGUEIRA  18306    100.0\n",
      "9        IN_DISLEXIA  18305    100.0\n",
      "18    IN_DISCALCULIA  18305    100.0\n",
      "10          IN_IDOSO  18304    100.0\n",
      "6          IN_SURDEZ  18300    100.0\n",
      "14       IN_GESTANTE  18291     99.9\n",
      "2     IN_BAIXA_VISAO  18285     99.9\n",
      "20      IN_SABATISTA  18126     99.0\n",
      "17      IN_TREINEIRO  15940     87.1\n",
      "1    TP_ANO_CONCLUIU   9654     52.7\n",
      "15         TP_LINGUA   7389     40.4\n",
      "11    TP_PRESENCA_LC   4787     26.1\n",
      "25           istrain   4576     25.0\n",
      "22    TP_PRESENCA_CN   4514     24.7\n",
      "23    TP_PRESENCA_CH   4514     24.7\n",
      "21     NU_NOTA_COMP5    910      5.0\n",
      "12     NU_NOTA_COMP3    332      1.8\n",
      "24     NU_NOTA_COMP4    330      1.8\n",
      "0        TP_COR_RACA    329      1.8\n",
      "19     NU_NOTA_COMP1    316      1.7\n",
      "16     NU_NOTA_COMP2    315      1.7\n",
      "13   NU_NOTA_REDACAO    315      1.7\n",
      "8   TP_NACIONALIDADE     16      0.1\n",
      "4         NU_NOTA_CN      9      0.0\n",
      "3         NU_NOTA_LC      9      0.0\n",
      "5         NU_NOTA_CH      4      0.0\n"
     ]
    }
   ],
   "source": [
    "#Situação das variáveis numéricas\n",
    "\n",
    "print('Sumário dos nulos:')\n",
    "print(get_nans(df_num))\n",
    "print('')\n",
    "print('Sumário dos zeros:')\n",
    "print(get_zeros(df_num))"
   ]
  },
  {
   "cell_type": "code",
   "execution_count": 16,
   "metadata": {},
   "outputs": [
    {
     "name": "stdout",
     "output_type": "stream",
     "text": [
      "Sumário dos nulos:\n",
      "  Feature  Nulls  Percent\n",
      "0    Q027   9861     53.9\n"
     ]
    }
   ],
   "source": [
    "#Situação das variáveis categóricas\n",
    "\n",
    "print('Sumário dos nulos:')\n",
    "print(get_nans(df_str))"
   ]
  },
  {
   "cell_type": "code",
   "execution_count": 17,
   "metadata": {},
   "outputs": [],
   "source": [
    "#Cleaner\n",
    "\n",
    "class Cleaner:\n",
    "    \n",
    "    from sklearn.preprocessing import MinMaxScaler\n",
    "    \n",
    "    def __init__(self, dataframe, bin_list = [], scaler_list = [], ordinal_list = [], dummy_list = [], clean_nan = False):    \n",
    "        self.dataframe = dataframe\n",
    "        self.bin_list = bin_list\n",
    "        self.scaler_list = scaler_list\n",
    "        self.ordinal_list = ordinal_list\n",
    "        self.dummy_list = dummy_list\n",
    "        self.clean_nan = clean_nan\n",
    "    \n",
    "    def transform(self):    \n",
    "        dataframe = self.dataframe\n",
    "        dataframe_cols = dataframe.columns.values.tolist()\n",
    "\n",
    "        #Binariza\n",
    "        if bool(self.bin_list):\n",
    "            for col in self.bin_list:\n",
    "                dataframe[col] = [0 if x == 0 else 1 for x in dataframe[col]]\n",
    "\n",
    "        #Escalona(MinMax)\n",
    "        if bool(self.scaler_list):\n",
    "            scaler = MinMaxScaler()\n",
    "            dataframe.loc[:,self.scaler_list] = scaler.fit_transform(dataframe.loc[:,self.scaler_list])\n",
    "\n",
    "        #Label Ordinal  \n",
    "        if bool(self.ordinal_list):\n",
    "            for col in self.ordinal_list:\n",
    "                dataframe[col] = dataframe[col].map({'M':13, 'K':12, 'L':11, 'J':10, 'I':9, 'H':8, 'G':7,\n",
    "                                                     'F':6, 'E':5, 'D':4, 'C':3, 'B':2, 'A':1, np.nan:0})\n",
    "\n",
    "\n",
    "        if bool(self.dummy_list):\n",
    "            dataframe = pd.get_dummies(dataframe, columns=self.dummy_list, drop_first=True)\n",
    "\n",
    "        if self.clean_nan:\n",
    "            for col in dataframe.select_dtypes(exclude='object').columns.tolist():\n",
    "                dataframe[col].fillna(dataframe[col].median(), inplace = True)\n",
    "\n",
    "      \n",
    "        return dataframe"
   ]
  },
  {
   "cell_type": "code",
   "execution_count": 18,
   "metadata": {},
   "outputs": [],
   "source": [
    "df_full.drop('NU_INSCRICAO', axis = 1, inplace = True)"
   ]
  },
  {
   "cell_type": "code",
   "execution_count": 19,
   "metadata": {},
   "outputs": [
    {
     "name": "stdout",
     "output_type": "stream",
     "text": [
      "Shape antes do dummify: (18306, 47)\n",
      "Shape após o dummify: (18306, 102)\n"
     ]
    }
   ],
   "source": [
    "#Variáveis que são ordinais\n",
    "ordinal_list = ['Q001','Q006','Q047', 'Q025', 'Q026', 'Q002', 'Q024', 'Q027']\n",
    "\n",
    "dummy_list = ['CO_PROVA_MT', 'CO_PROVA_LC', 'SG_UF_RESIDENCIA', 'TP_SEXO', 'CO_PROVA_CN',\n",
    "               'CO_PROVA_CH']\n",
    "\n",
    "#Instânciando cleaner\n",
    "cleaner = Cleaner(df_full,\n",
    "                  ordinal_list = ordinal_list,\n",
    "                  dummy_list = dummy_list,\n",
    "                  clean_nan = True)\n",
    "\n",
    "print(f'Shape antes do dummify: {df_full.shape}')\n",
    "\n",
    "#Aplicando transformações\n",
    "df_full = cleaner.transform()\n",
    "\n",
    "#Shape\n",
    "print(f'Shape após o dummify: {df_full.shape}')"
   ]
  },
  {
   "cell_type": "markdown",
   "metadata": {},
   "source": [
    "### Exploratory Data Analysis"
   ]
  },
  {
   "cell_type": "code",
   "execution_count": 20,
   "metadata": {},
   "outputs": [
    {
     "data": {
      "image/png": "[encoded data removed]",
      "text/plain": [
       "<Figure size 432x288 with 1 Axes>"
      ]
     },
     "metadata": {
      "needs_background": "light"
     },
     "output_type": "display_data"
    }
   ],
   "source": [
    "# Distribuição das notas de matemática (target)\n",
    "sns.distplot(target[target.notnull()]);"
   ]
  },
  {
   "cell_type": "markdown",
   "metadata": {},
   "source": [
    "### Scaling"
   ]
  },
  {
   "cell_type": "code",
   "execution_count": 21,
   "metadata": {},
   "outputs": [],
   "source": [
    "def scaling(df):\n",
    "    scaler = StandardScaler()\n",
    "    for col in df.columns:\n",
    "\n",
    "        if col == 'istrain':\n",
    "            pass\n",
    "\n",
    "        elif df[col].unique().tolist() != [0,1]:\n",
    "            df[col] = scaler.fit_transform(df[[col]])\n",
    "    return df\n",
    "\n",
    "#Aplicando scaling\n",
    "df_full = scaling(df_full)"
   ]
  },
  {
   "cell_type": "code",
   "execution_count": 22,
   "metadata": {
    "scrolled": true
   },
   "outputs": [
    {
     "data": {
      "text/html": [
       "<div>\n",
       "<style scoped>\n",
       "    .dataframe tbody tr th:only-of-type {\n",
       "        vertical-align: middle;\n",
       "    }\n",
       "\n",
       "    .dataframe tbody tr th {\n",
       "        vertical-align: top;\n",
       "    }\n",
       "\n",
       "    .dataframe thead th {\n",
       "        text-align: right;\n",
       "    }\n",
       "</style>\n",
       "<table border=\"1\" class=\"dataframe\">\n",
       "  <thead>\n",
       "    <tr style=\"text-align: right;\">\n",
       "      <th></th>\n",
       "      <th>TP_COR_RACA</th>\n",
       "      <th>TP_ANO_CONCLUIU</th>\n",
       "      <th>IN_BAIXA_VISAO</th>\n",
       "      <th>NU_NOTA_LC</th>\n",
       "      <th>TP_DEPENDENCIA_ADM_ESC</th>\n",
       "      <th>NU_NOTA_CN</th>\n",
       "      <th>Q025</th>\n",
       "      <th>NU_NOTA_CH</th>\n",
       "      <th>NU_IDADE</th>\n",
       "      <th>IN_SURDEZ</th>\n",
       "      <th>...</th>\n",
       "      <th>CO_PROVA_CN_c87a85497686b3e7b3765f84a2ca95256f0f66aa</th>\n",
       "      <th>CO_PROVA_CH_2d22ac1d42e6187f09ee6c578df187a760123ccf</th>\n",
       "      <th>CO_PROVA_CH_6c3fec2ef505409a9e7c3d2e8634fa2aced4ee93</th>\n",
       "      <th>CO_PROVA_CH_909237ab0d84688e10c0470e2997348aff585273</th>\n",
       "      <th>CO_PROVA_CH_942ab3dc020af4cf53740b6b07e9dd7060b24164</th>\n",
       "      <th>CO_PROVA_CH_9cd70f1b922e02bd33453b3f607f5a644fb9b1b8</th>\n",
       "      <th>CO_PROVA_CH_c95541bf218d7ff70572ca4bcb421edeff05c6d5</th>\n",
       "      <th>CO_PROVA_CH_d5f6d17523d2cce3e4dc0a7f0582a85cec1c15ee</th>\n",
       "      <th>CO_PROVA_CH_f48d390ab6a2428e659c37fb8a9d00afde621889</th>\n",
       "      <th>CO_PROVA_CH_f94e97c2a5689edd5369740fde9a927e23a9465f</th>\n",
       "    </tr>\n",
       "  </thead>\n",
       "  <tbody>\n",
       "    <tr>\n",
       "      <th>0</th>\n",
       "      <td>-1.173031</td>\n",
       "      <td>0.578611</td>\n",
       "      <td>0</td>\n",
       "      <td>1.092252</td>\n",
       "      <td>-0.199059</td>\n",
       "      <td>-0.543028</td>\n",
       "      <td>-1.154498</td>\n",
       "      <td>-0.544356</td>\n",
       "      <td>0.345755</td>\n",
       "      <td>0</td>\n",
       "      <td>...</td>\n",
       "      <td>0</td>\n",
       "      <td>0</td>\n",
       "      <td>0</td>\n",
       "      <td>0</td>\n",
       "      <td>0</td>\n",
       "      <td>2.037355</td>\n",
       "      <td>0</td>\n",
       "      <td>0</td>\n",
       "      <td>0</td>\n",
       "      <td>0</td>\n",
       "    </tr>\n",
       "    <tr>\n",
       "      <th>1</th>\n",
       "      <td>0.807554</td>\n",
       "      <td>-0.665390</td>\n",
       "      <td>0</td>\n",
       "      <td>1.394827</td>\n",
       "      <td>-0.199059</td>\n",
       "      <td>0.073516</td>\n",
       "      <td>-1.154498</td>\n",
       "      <td>0.218495</td>\n",
       "      <td>-0.654759</td>\n",
       "      <td>0</td>\n",
       "      <td>...</td>\n",
       "      <td>0</td>\n",
       "      <td>0</td>\n",
       "      <td>0</td>\n",
       "      <td>1</td>\n",
       "      <td>0</td>\n",
       "      <td>-0.490832</td>\n",
       "      <td>0</td>\n",
       "      <td>0</td>\n",
       "      <td>0</td>\n",
       "      <td>0</td>\n",
       "    </tr>\n",
       "    <tr>\n",
       "      <th>2</th>\n",
       "      <td>0.807554</td>\n",
       "      <td>-0.665390</td>\n",
       "      <td>0</td>\n",
       "      <td>0.048540</td>\n",
       "      <td>-0.199059</td>\n",
       "      <td>-0.170197</td>\n",
       "      <td>-1.154498</td>\n",
       "      <td>0.028957</td>\n",
       "      <td>-0.083037</td>\n",
       "      <td>0</td>\n",
       "      <td>...</td>\n",
       "      <td>0</td>\n",
       "      <td>1</td>\n",
       "      <td>0</td>\n",
       "      <td>0</td>\n",
       "      <td>0</td>\n",
       "      <td>-0.490832</td>\n",
       "      <td>0</td>\n",
       "      <td>0</td>\n",
       "      <td>0</td>\n",
       "      <td>0</td>\n",
       "    </tr>\n",
       "    <tr>\n",
       "      <th>3</th>\n",
       "      <td>-2.163323</td>\n",
       "      <td>2.133612</td>\n",
       "      <td>0</td>\n",
       "      <td>0.048540</td>\n",
       "      <td>-0.199059</td>\n",
       "      <td>-0.170197</td>\n",
       "      <td>0.866177</td>\n",
       "      <td>0.028957</td>\n",
       "      <td>0.488686</td>\n",
       "      <td>0</td>\n",
       "      <td>...</td>\n",
       "      <td>0</td>\n",
       "      <td>1</td>\n",
       "      <td>0</td>\n",
       "      <td>0</td>\n",
       "      <td>0</td>\n",
       "      <td>-0.490832</td>\n",
       "      <td>0</td>\n",
       "      <td>0</td>\n",
       "      <td>0</td>\n",
       "      <td>0</td>\n",
       "    </tr>\n",
       "    <tr>\n",
       "      <th>4</th>\n",
       "      <td>-0.182738</td>\n",
       "      <td>0.578611</td>\n",
       "      <td>0</td>\n",
       "      <td>0.048540</td>\n",
       "      <td>-0.199059</td>\n",
       "      <td>-0.170197</td>\n",
       "      <td>-1.154498</td>\n",
       "      <td>0.028957</td>\n",
       "      <td>0.917478</td>\n",
       "      <td>0</td>\n",
       "      <td>...</td>\n",
       "      <td>0</td>\n",
       "      <td>1</td>\n",
       "      <td>0</td>\n",
       "      <td>0</td>\n",
       "      <td>0</td>\n",
       "      <td>-0.490832</td>\n",
       "      <td>0</td>\n",
       "      <td>0</td>\n",
       "      <td>0</td>\n",
       "      <td>0</td>\n",
       "    </tr>\n",
       "  </tbody>\n",
       "</table>\n",
       "<p>5 rows × 102 columns</p>\n",
       "</div>"
      ],
      "text/plain": [
       "   TP_COR_RACA  TP_ANO_CONCLUIU  IN_BAIXA_VISAO  NU_NOTA_LC  \\\n",
       "0    -1.173031         0.578611               0    1.092252   \n",
       "1     0.807554        -0.665390               0    1.394827   \n",
       "2     0.807554        -0.665390               0    0.048540   \n",
       "3    -2.163323         2.133612               0    0.048540   \n",
       "4    -0.182738         0.578611               0    0.048540   \n",
       "\n",
       "   TP_DEPENDENCIA_ADM_ESC  NU_NOTA_CN      Q025  NU_NOTA_CH  NU_IDADE  \\\n",
       "0               -0.199059   -0.543028 -1.154498   -0.544356  0.345755   \n",
       "1               -0.199059    0.073516 -1.154498    0.218495 -0.654759   \n",
       "2               -0.199059   -0.170197 -1.154498    0.028957 -0.083037   \n",
       "3               -0.199059   -0.170197  0.866177    0.028957  0.488686   \n",
       "4               -0.199059   -0.170197 -1.154498    0.028957  0.917478   \n",
       "\n",
       "   IN_SURDEZ  ...  CO_PROVA_CN_c87a85497686b3e7b3765f84a2ca95256f0f66aa  \\\n",
       "0          0  ...                                                  0      \n",
       "1          0  ...                                                  0      \n",
       "2          0  ...                                                  0      \n",
       "3          0  ...                                                  0      \n",
       "4          0  ...                                                  0      \n",
       "\n",
       "   CO_PROVA_CH_2d22ac1d42e6187f09ee6c578df187a760123ccf  \\\n",
       "0                                                  0      \n",
       "1                                                  0      \n",
       "2                                                  1      \n",
       "3                                                  1      \n",
       "4                                                  1      \n",
       "\n",
       "   CO_PROVA_CH_6c3fec2ef505409a9e7c3d2e8634fa2aced4ee93  \\\n",
       "0                                                  0      \n",
       "1                                                  0      \n",
       "2                                                  0      \n",
       "3                                                  0      \n",
       "4                                                  0      \n",
       "\n",
       "   CO_PROVA_CH_909237ab0d84688e10c0470e2997348aff585273  \\\n",
       "0                                                  0      \n",
       "1                                                  1      \n",
       "2                                                  0      \n",
       "3                                                  0      \n",
       "4                                                  0      \n",
       "\n",
       "   CO_PROVA_CH_942ab3dc020af4cf53740b6b07e9dd7060b24164  \\\n",
       "0                                                  0      \n",
       "1                                                  0      \n",
       "2                                                  0      \n",
       "3                                                  0      \n",
       "4                                                  0      \n",
       "\n",
       "   CO_PROVA_CH_9cd70f1b922e02bd33453b3f607f5a644fb9b1b8  \\\n",
       "0                                           2.037355      \n",
       "1                                          -0.490832      \n",
       "2                                          -0.490832      \n",
       "3                                          -0.490832      \n",
       "4                                          -0.490832      \n",
       "\n",
       "   CO_PROVA_CH_c95541bf218d7ff70572ca4bcb421edeff05c6d5  \\\n",
       "0                                                  0      \n",
       "1                                                  0      \n",
       "2                                                  0      \n",
       "3                                                  0      \n",
       "4                                                  0      \n",
       "\n",
       "   CO_PROVA_CH_d5f6d17523d2cce3e4dc0a7f0582a85cec1c15ee  \\\n",
       "0                                                  0      \n",
       "1                                                  0      \n",
       "2                                                  0      \n",
       "3                                                  0      \n",
       "4                                                  0      \n",
       "\n",
       "   CO_PROVA_CH_f48d390ab6a2428e659c37fb8a9d00afde621889  \\\n",
       "0                                                  0      \n",
       "1                                                  0      \n",
       "2                                                  0      \n",
       "3                                                  0      \n",
       "4                                                  0      \n",
       "\n",
       "   CO_PROVA_CH_f94e97c2a5689edd5369740fde9a927e23a9465f  \n",
       "0                                                  0     \n",
       "1                                                  0     \n",
       "2                                                  0     \n",
       "3                                                  0     \n",
       "4                                                  0     \n",
       "\n",
       "[5 rows x 102 columns]"
      ]
     },
     "execution_count": 22,
     "metadata": {},
     "output_type": "execute_result"
    }
   ],
   "source": [
    "df_full.head()"
   ]
  },
  {
   "cell_type": "markdown",
   "metadata": {},
   "source": [
    "### Baseline model"
   ]
  },
  {
   "cell_type": "code",
   "execution_count": 23,
   "metadata": {
    "scrolled": true
   },
   "outputs": [
    {
     "name": "stdout",
     "output_type": "stream",
     "text": [
      "Train shape: (13730, 102)\n",
      "Test shape: (4576, 102)\n",
      "Target shape: (13730,)\n"
     ]
    }
   ],
   "source": [
    "#Separando\n",
    "df_train = df_full.loc[df_full.istrain == 1]\n",
    "df_test = df_full.loc[df_full.istrain == 0]\n",
    "\n",
    "print(f'Train shape: {df_train.shape}')\n",
    "print(f'Test shape: {df_test.shape}')\n",
    "print(f'Target shape: {target.shape}')"
   ]
  },
  {
   "cell_type": "code",
   "execution_count": 24,
   "metadata": {},
   "outputs": [],
   "source": [
    "y = target.fillna(0)\n",
    "X = df_train"
   ]
  },
  {
   "cell_type": "code",
   "execution_count": 37,
   "metadata": {},
   "outputs": [],
   "source": [
    "# Split into training and test set\n",
    "X_train, X_test, y_train, y_test = train_test_split(X, y, test_size = 0.30, random_state=42)\n"
   ]
  },
  {
   "cell_type": "code",
   "execution_count": 41,
   "metadata": {},
   "outputs": [
    {
     "data": {
      "text/plain": [
       "(0.9189634333638148, -4.18222874449117e+18)"
      ]
     },
     "execution_count": 41,
     "metadata": {},
     "output_type": "execute_result"
    }
   ],
   "source": [
    "from sklearn.linear_model import LinearRegression\n",
    "\n",
    "reg = LinearRegression().fit(X_train, y_train)\n",
    "reg.score(X_train, y_train), reg.score(X_test, y_test)"
   ]
  },
  {
   "cell_type": "markdown",
   "metadata": {},
   "source": [
    "**Um modelo baseline é importante para identificarmos o ponto de partida do modelo. Devemos aprimorar essa abordagem e comparar os futuros scores com este, realizado com pouco esforço de feature selection, feature engineering e tuning de hiperparâmetros.**"
   ]
  },
  {
   "cell_type": "code",
   "execution_count": 26,
   "metadata": {},
   "outputs": [
    {
     "data": {
      "text/html": [
       "<div>\n",
       "<style scoped>\n",
       "    .dataframe tbody tr th:only-of-type {\n",
       "        vertical-align: middle;\n",
       "    }\n",
       "\n",
       "    .dataframe tbody tr th {\n",
       "        vertical-align: top;\n",
       "    }\n",
       "\n",
       "    .dataframe thead th {\n",
       "        text-align: right;\n",
       "    }\n",
       "</style>\n",
       "<table border=\"1\" class=\"dataframe\">\n",
       "  <thead>\n",
       "    <tr style=\"text-align: right;\">\n",
       "      <th></th>\n",
       "      <th>TP_COR_RACA</th>\n",
       "      <th>TP_ANO_CONCLUIU</th>\n",
       "      <th>IN_BAIXA_VISAO</th>\n",
       "      <th>NU_NOTA_LC</th>\n",
       "      <th>TP_DEPENDENCIA_ADM_ESC</th>\n",
       "      <th>NU_NOTA_CN</th>\n",
       "      <th>Q025</th>\n",
       "      <th>NU_NOTA_CH</th>\n",
       "      <th>NU_IDADE</th>\n",
       "      <th>IN_SURDEZ</th>\n",
       "      <th>...</th>\n",
       "      <th>CO_PROVA_CN_c87a85497686b3e7b3765f84a2ca95256f0f66aa</th>\n",
       "      <th>CO_PROVA_CH_2d22ac1d42e6187f09ee6c578df187a760123ccf</th>\n",
       "      <th>CO_PROVA_CH_6c3fec2ef505409a9e7c3d2e8634fa2aced4ee93</th>\n",
       "      <th>CO_PROVA_CH_909237ab0d84688e10c0470e2997348aff585273</th>\n",
       "      <th>CO_PROVA_CH_942ab3dc020af4cf53740b6b07e9dd7060b24164</th>\n",
       "      <th>CO_PROVA_CH_9cd70f1b922e02bd33453b3f607f5a644fb9b1b8</th>\n",
       "      <th>CO_PROVA_CH_c95541bf218d7ff70572ca4bcb421edeff05c6d5</th>\n",
       "      <th>CO_PROVA_CH_d5f6d17523d2cce3e4dc0a7f0582a85cec1c15ee</th>\n",
       "      <th>CO_PROVA_CH_f48d390ab6a2428e659c37fb8a9d00afde621889</th>\n",
       "      <th>CO_PROVA_CH_f94e97c2a5689edd5369740fde9a927e23a9465f</th>\n",
       "    </tr>\n",
       "  </thead>\n",
       "  <tbody>\n",
       "    <tr>\n",
       "      <th>0</th>\n",
       "      <td>-1.173031</td>\n",
       "      <td>0.578611</td>\n",
       "      <td>0</td>\n",
       "      <td>1.092252</td>\n",
       "      <td>-0.199059</td>\n",
       "      <td>-0.543028</td>\n",
       "      <td>-1.154498</td>\n",
       "      <td>-0.544356</td>\n",
       "      <td>0.345755</td>\n",
       "      <td>0</td>\n",
       "      <td>...</td>\n",
       "      <td>0</td>\n",
       "      <td>0</td>\n",
       "      <td>0</td>\n",
       "      <td>0</td>\n",
       "      <td>0</td>\n",
       "      <td>2.037355</td>\n",
       "      <td>0</td>\n",
       "      <td>0</td>\n",
       "      <td>0</td>\n",
       "      <td>0</td>\n",
       "    </tr>\n",
       "    <tr>\n",
       "      <th>1</th>\n",
       "      <td>0.807554</td>\n",
       "      <td>-0.665390</td>\n",
       "      <td>0</td>\n",
       "      <td>1.394827</td>\n",
       "      <td>-0.199059</td>\n",
       "      <td>0.073516</td>\n",
       "      <td>-1.154498</td>\n",
       "      <td>0.218495</td>\n",
       "      <td>-0.654759</td>\n",
       "      <td>0</td>\n",
       "      <td>...</td>\n",
       "      <td>0</td>\n",
       "      <td>0</td>\n",
       "      <td>0</td>\n",
       "      <td>1</td>\n",
       "      <td>0</td>\n",
       "      <td>-0.490832</td>\n",
       "      <td>0</td>\n",
       "      <td>0</td>\n",
       "      <td>0</td>\n",
       "      <td>0</td>\n",
       "    </tr>\n",
       "    <tr>\n",
       "      <th>2</th>\n",
       "      <td>0.807554</td>\n",
       "      <td>-0.665390</td>\n",
       "      <td>0</td>\n",
       "      <td>0.048540</td>\n",
       "      <td>-0.199059</td>\n",
       "      <td>-0.170197</td>\n",
       "      <td>-1.154498</td>\n",
       "      <td>0.028957</td>\n",
       "      <td>-0.083037</td>\n",
       "      <td>0</td>\n",
       "      <td>...</td>\n",
       "      <td>0</td>\n",
       "      <td>1</td>\n",
       "      <td>0</td>\n",
       "      <td>0</td>\n",
       "      <td>0</td>\n",
       "      <td>-0.490832</td>\n",
       "      <td>0</td>\n",
       "      <td>0</td>\n",
       "      <td>0</td>\n",
       "      <td>0</td>\n",
       "    </tr>\n",
       "    <tr>\n",
       "      <th>3</th>\n",
       "      <td>-2.163323</td>\n",
       "      <td>2.133612</td>\n",
       "      <td>0</td>\n",
       "      <td>0.048540</td>\n",
       "      <td>-0.199059</td>\n",
       "      <td>-0.170197</td>\n",
       "      <td>0.866177</td>\n",
       "      <td>0.028957</td>\n",
       "      <td>0.488686</td>\n",
       "      <td>0</td>\n",
       "      <td>...</td>\n",
       "      <td>0</td>\n",
       "      <td>1</td>\n",
       "      <td>0</td>\n",
       "      <td>0</td>\n",
       "      <td>0</td>\n",
       "      <td>-0.490832</td>\n",
       "      <td>0</td>\n",
       "      <td>0</td>\n",
       "      <td>0</td>\n",
       "      <td>0</td>\n",
       "    </tr>\n",
       "    <tr>\n",
       "      <th>4</th>\n",
       "      <td>-0.182738</td>\n",
       "      <td>0.578611</td>\n",
       "      <td>0</td>\n",
       "      <td>0.048540</td>\n",
       "      <td>-0.199059</td>\n",
       "      <td>-0.170197</td>\n",
       "      <td>-1.154498</td>\n",
       "      <td>0.028957</td>\n",
       "      <td>0.917478</td>\n",
       "      <td>0</td>\n",
       "      <td>...</td>\n",
       "      <td>0</td>\n",
       "      <td>1</td>\n",
       "      <td>0</td>\n",
       "      <td>0</td>\n",
       "      <td>0</td>\n",
       "      <td>-0.490832</td>\n",
       "      <td>0</td>\n",
       "      <td>0</td>\n",
       "      <td>0</td>\n",
       "      <td>0</td>\n",
       "    </tr>\n",
       "  </tbody>\n",
       "</table>\n",
       "<p>5 rows × 102 columns</p>\n",
       "</div>"
      ],
      "text/plain": [
       "   TP_COR_RACA  TP_ANO_CONCLUIU  IN_BAIXA_VISAO  NU_NOTA_LC  \\\n",
       "0    -1.173031         0.578611               0    1.092252   \n",
       "1     0.807554        -0.665390               0    1.394827   \n",
       "2     0.807554        -0.665390               0    0.048540   \n",
       "3    -2.163323         2.133612               0    0.048540   \n",
       "4    -0.182738         0.578611               0    0.048540   \n",
       "\n",
       "   TP_DEPENDENCIA_ADM_ESC  NU_NOTA_CN      Q025  NU_NOTA_CH  NU_IDADE  \\\n",
       "0               -0.199059   -0.543028 -1.154498   -0.544356  0.345755   \n",
       "1               -0.199059    0.073516 -1.154498    0.218495 -0.654759   \n",
       "2               -0.199059   -0.170197 -1.154498    0.028957 -0.083037   \n",
       "3               -0.199059   -0.170197  0.866177    0.028957  0.488686   \n",
       "4               -0.199059   -0.170197 -1.154498    0.028957  0.917478   \n",
       "\n",
       "   IN_SURDEZ  ...  CO_PROVA_CN_c87a85497686b3e7b3765f84a2ca95256f0f66aa  \\\n",
       "0          0  ...                                                  0      \n",
       "1          0  ...                                                  0      \n",
       "2          0  ...                                                  0      \n",
       "3          0  ...                                                  0      \n",
       "4          0  ...                                                  0      \n",
       "\n",
       "   CO_PROVA_CH_2d22ac1d42e6187f09ee6c578df187a760123ccf  \\\n",
       "0                                                  0      \n",
       "1                                                  0      \n",
       "2                                                  1      \n",
       "3                                                  1      \n",
       "4                                                  1      \n",
       "\n",
       "   CO_PROVA_CH_6c3fec2ef505409a9e7c3d2e8634fa2aced4ee93  \\\n",
       "0                                                  0      \n",
       "1                                                  0      \n",
       "2                                                  0      \n",
       "3                                                  0      \n",
       "4                                                  0      \n",
       "\n",
       "   CO_PROVA_CH_909237ab0d84688e10c0470e2997348aff585273  \\\n",
       "0                                                  0      \n",
       "1                                                  1      \n",
       "2                                                  0      \n",
       "3                                                  0      \n",
       "4                                                  0      \n",
       "\n",
       "   CO_PROVA_CH_942ab3dc020af4cf53740b6b07e9dd7060b24164  \\\n",
       "0                                                  0      \n",
       "1                                                  0      \n",
       "2                                                  0      \n",
       "3                                                  0      \n",
       "4                                                  0      \n",
       "\n",
       "   CO_PROVA_CH_9cd70f1b922e02bd33453b3f607f5a644fb9b1b8  \\\n",
       "0                                           2.037355      \n",
       "1                                          -0.490832      \n",
       "2                                          -0.490832      \n",
       "3                                          -0.490832      \n",
       "4                                          -0.490832      \n",
       "\n",
       "   CO_PROVA_CH_c95541bf218d7ff70572ca4bcb421edeff05c6d5  \\\n",
       "0                                                  0      \n",
       "1                                                  0      \n",
       "2                                                  0      \n",
       "3                                                  0      \n",
       "4                                                  0      \n",
       "\n",
       "   CO_PROVA_CH_d5f6d17523d2cce3e4dc0a7f0582a85cec1c15ee  \\\n",
       "0                                                  0      \n",
       "1                                                  0      \n",
       "2                                                  0      \n",
       "3                                                  0      \n",
       "4                                                  0      \n",
       "\n",
       "   CO_PROVA_CH_f48d390ab6a2428e659c37fb8a9d00afde621889  \\\n",
       "0                                                  0      \n",
       "1                                                  0      \n",
       "2                                                  0      \n",
       "3                                                  0      \n",
       "4                                                  0      \n",
       "\n",
       "   CO_PROVA_CH_f94e97c2a5689edd5369740fde9a927e23a9465f  \n",
       "0                                                  0     \n",
       "1                                                  0     \n",
       "2                                                  0     \n",
       "3                                                  0     \n",
       "4                                                  0     \n",
       "\n",
       "[5 rows x 102 columns]"
      ]
     },
     "execution_count": 26,
     "metadata": {},
     "output_type": "execute_result"
    }
   ],
   "source": [
    "df_full.head()"
   ]
  },
  {
   "cell_type": "markdown",
   "metadata": {},
   "source": [
    "**1 Submission: XGBOOST**"
   ]
  },
  {
   "cell_type": "code",
   "execution_count": 39,
   "metadata": {
    "scrolled": true
   },
   "outputs": [
    {
     "data": {
      "text/plain": [
       "XGBRegressor(base_score=0.5, booster='gbtree', colsample_bylevel=1,\n",
       "             colsample_bynode=1, colsample_bytree=1, gamma=0, gpu_id=-1,\n",
       "             importance_type='gain', interaction_constraints='',\n",
       "             learning_rate=0.300000012, max_delta_step=0, max_depth=6,\n",
       "             min_child_weight=1, missing=nan, monotone_constraints='()',\n",
       "             n_estimators=100, n_jobs=0, num_parallel_tree=1, random_state=0,\n",
       "             reg_alpha=0, reg_lambda=1, scale_pos_weight=1, subsample=1,\n",
       "             tree_method='exact', validate_parameters=1, verbosity=None)"
      ]
     },
     "execution_count": 39,
     "metadata": {},
     "output_type": "execute_result"
    }
   ],
   "source": [
    "from xgboost import XGBRegressor\n",
    "xgb = XGBRegressor()\n",
    "xgb.fit(X_train, y_train)"
   ]
  },
  {
   "cell_type": "code",
   "execution_count": 40,
   "metadata": {},
   "outputs": [
    {
     "data": {
      "text/plain": [
       "(0.9680954193789263, 0.9687402616515276)"
      ]
     },
     "execution_count": 40,
     "metadata": {},
     "output_type": "execute_result"
    }
   ],
   "source": [
    "xgb.score(X_train, y_train), xgb.score(X_test, y_test)"
   ]
  },
  {
   "cell_type": "code",
   "execution_count": 74,
   "metadata": {},
   "outputs": [],
   "source": [
    "# Submit 1\n",
    "y_sub1 = model.predict(df_test) # Score: 93.61\n",
    "\n",
    "pd.DataFrame({'NU_INSCRICAO':df_test_n.NU_INSCRICAO,'NU_NOTA_MT':y_sub1}).to_csv(\"answer1.csv\", index= False)"
   ]
  },
  {
   "cell_type": "markdown",
   "metadata": {},
   "source": [
    "**2 Submission: PCA + XGBOOST**"
   ]
  },
  {
   "cell_type": "code",
   "execution_count": 47,
   "metadata": {},
   "outputs": [],
   "source": [
    "from sklearn.decomposition import PCA"
   ]
  },
  {
   "cell_type": "code",
   "execution_count": 70,
   "metadata": {},
   "outputs": [],
   "source": [
    "pca = PCA(n_components=40)\n",
    "X_train_pca = pca.fit_transform(X_train)\n",
    "X_test_pca = pca.transform(X_test)"
   ]
  },
  {
   "cell_type": "code",
   "execution_count": 71,
   "metadata": {
    "scrolled": true
   },
   "outputs": [
    {
     "data": {
      "text/plain": [
       "XGBRegressor(base_score=0.5, booster='gbtree', colsample_bylevel=1,\n",
       "             colsample_bynode=1, colsample_bytree=1, gamma=0, gpu_id=-1,\n",
       "             importance_type='gain', interaction_constraints='',\n",
       "             learning_rate=0.300000012, max_delta_step=0, max_depth=6,\n",
       "             min_child_weight=1, missing=nan, monotone_constraints='()',\n",
       "             n_estimators=100, n_jobs=0, num_parallel_tree=1, random_state=0,\n",
       "             reg_alpha=0, reg_lambda=1, scale_pos_weight=1, subsample=1,\n",
       "             tree_method='exact', validate_parameters=1, verbosity=None)"
      ]
     },
     "execution_count": 71,
     "metadata": {},
     "output_type": "execute_result"
    }
   ],
   "source": [
    "from xgboost import XGBRegressor\n",
    "xgb = XGBRegressor()\n",
    "xgb.fit(X_train_pca, y_train)"
   ]
  },
  {
   "cell_type": "code",
   "execution_count": 72,
   "metadata": {},
   "outputs": [
    {
     "data": {
      "text/plain": [
       "((9611, 40), (4119, 40))"
      ]
     },
     "execution_count": 72,
     "metadata": {},
     "output_type": "execute_result"
    }
   ],
   "source": [
    "X_train_pca.shape, X_test_pca.shape"
   ]
  },
  {
   "cell_type": "code",
   "execution_count": 75,
   "metadata": {},
   "outputs": [
    {
     "data": {
      "text/plain": [
       "(0.9831360982077544, 0.9162569968189286)"
      ]
     },
     "execution_count": 75,
     "metadata": {},
     "output_type": "execute_result"
    }
   ],
   "source": [
    "xgb.score(X_train_pca, y_train), xgb.score(X_test_pca, y_test)"
   ]
  },
  {
   "cell_type": "code",
   "execution_count": 79,
   "metadata": {},
   "outputs": [],
   "source": [
    "# Submit 2\n",
    "df_test_pca = pca.transform(df_test)\n",
    "y_sub2 = xgb.predict(df_test_pca) # Score: 93.13\n",
    "\n",
    "pd.DataFrame({'NU_INSCRICAO':df_test_n.NU_INSCRICAO,'NU_NOTA_MT':y_sub2}).to_csv(\"answer2.csv\", index= False)"
   ]
  },
  {
   "cell_type": "markdown",
   "metadata": {},
   "source": [
    "**3 Submission: AutoML**"
   ]
  },
  {
   "cell_type": "code",
   "execution_count": null,
   "metadata": {},
   "outputs": [],
   "source": [
    "import h2o\n",
    "from h2o.automl import H2OAutoML\n",
    "\n",
    "h2o.init()\n",
    "\n",
    "# For binary classification, response should be a factor\n",
    "train[y] = train[y].asfactor()\n",
    "test[y] = test[y].asfactor()\n",
    "\n",
    "# Run AutoML for 20 base models (limited to 1 hour max runtime by default)\n",
    "aml = H2OAutoML(max_models=20, seed=1)\n",
    "aml.train(x=x, y=y, training_frame=train)\n",
    "\n",
    "# View the AutoML Leaderboard\n",
    "lb = aml.leaderboard\n",
    "lb.head(rows=lb.nrows)  # Print all rows instead of default (10 rows)"
   ]
  }
 ],
 "metadata": {
  "kernelspec": {
   "display_name": "Python 3",
   "language": "python",
   "name": "python3"
  },
  "language_info": {
   "codemirror_mode": {
    "name": "ipython",
    "version": 3
   },
   "file_extension": ".py",
   "mimetype": "text/x-python",
   "name": "python",
   "nbconvert_exporter": "python",
   "pygments_lexer": "ipython3",
   "version": "3.7.4"
  },
  "toc": {
   "base_numbering": 1,
   "nav_menu": {},
   "number_sections": true,
   "sideBar": true,
   "skip_h1_title": false,
   "title_cell": "Table of Contents",
   "title_sidebar": "Contents",
   "toc_cell": false,
   "toc_position": {},
   "toc_section_display": true,
   "toc_window_display": false
  }
 },
 "nbformat": 4,
 "nbformat_minor": 2
}
