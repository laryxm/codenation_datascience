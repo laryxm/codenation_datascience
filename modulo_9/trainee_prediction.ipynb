{
 "cells": [
  {
   "cell_type": "code",
   "execution_count": 1,
   "metadata": {},
   "outputs": [],
   "source": [
    "import pandas as pd\n",
    "import numpy as np\n",
    "from tqdm import tqdm_notebook\n",
    "import time\n",
    "\n",
    "#Visualization\n",
    "import matplotlib.pyplot as plt \n",
    "import altair as alt\n",
    "import seaborn as sns\n",
    "\n",
    "#Data preparation\n",
    "from sklearn.preprocessing import StandardScaler, MinMaxScaler\n",
    "\n",
    "#Models\n",
    "from sklearn.linear_model import LinearRegression                             \n",
    "from sklearn.neighbors import KNeighborsRegressor\n",
    "from sklearn.ensemble import RandomForestRegressor\n",
    "import lightgbm as lgb\n",
    "import xgboost as xgb\n",
    "\n",
    "#Metrics\n",
    "from sklearn.metrics import (explained_variance_score, max_error, \n",
    "                             mean_absolute_error, mean_squared_error, \n",
    "                             median_absolute_error, r2_score)\n",
    "\n",
    "from sklearn.model_selection import train_test_split, GridSearchCV\n",
    "from imblearn.pipeline import Pipeline\n",
    "from collections import Counter\n",
    "\n",
    "%matplotlib inline\n",
    "\n",
    "import warnings\n",
    "warnings.filterwarnings(\"ignore\")"
   ]
  },
  {
   "cell_type": "markdown",
   "metadata": {},
   "source": [
    "### Import data"
   ]
  },
  {
   "cell_type": "code",
   "execution_count": 2,
   "metadata": {},
   "outputs": [],
   "source": [
    "# Base de Treino\n",
    "df_train = pd.read_csv(\"train.csv\")\n",
    "\n",
    "# Base de Teste\n",
    "df_test = pd.read_csv(\"test.csv\")\n",
    "df_test_n = pd.read_csv(\"test.csv\")"
   ]
  },
  {
   "cell_type": "code",
   "execution_count": 3,
   "metadata": {},
   "outputs": [
    {
     "data": {
      "text/plain": [
       "((13730, 167), 13730, 2016    13730\n",
       " Name: NU_ANO, dtype: int64)"
      ]
     },
     "execution_count": 3,
     "metadata": {},
     "output_type": "execute_result"
    }
   ],
   "source": [
    "df_train.shape, df_train.NU_INSCRICAO.nunique(), df_train.NU_ANO.value_counts()"
   ]
  },
  {
   "cell_type": "code",
   "execution_count": 4,
   "metadata": {},
   "outputs": [],
   "source": [
    "# Temos apenas 47 features na base de teste, portanto é interessante treinar apenas com features em comum\n",
    "\n",
    "x_features = set.intersection(set(df_test.columns.to_list()), set(df_train.columns.to_list()))\n",
    "\n",
    "target = df_train.IN_TREINEIRO\n",
    "df_train = df_train[x_features] # 13730, 43\n",
    "df_train['istrain'] = 1\n",
    "df_test = df_test[x_features] # 4576, 43\n",
    "\n",
    "df_full = pd.concat([df_train,df_test], axis = 0, sort = False).reset_index(drop = True)\n",
    "df_full.istrain.fillna(0,inplace=True)\n",
    "\n",
    "df_num = df_full.select_dtypes(exclude='object') # 18306, 33\n",
    "df_str = df_full.select_dtypes(include='object') # 18306, 15"
   ]
  },
  {
   "cell_type": "code",
   "execution_count": 5,
   "metadata": {},
   "outputs": [
    {
     "name": "stdout",
     "output_type": "stream",
     "text": [
      "Int64:\n",
      "['CO_UF_RESIDENCIA' 'TP_PRESENCA_CH' 'TP_PRESENCA_LC' 'IN_BAIXA_VISAO'\n",
      " 'TP_NACIONALIDADE' 'TP_COR_RACA' 'NU_IDADE' 'IN_IDOSO' 'IN_DISCALCULIA'\n",
      " 'TP_ESCOLA' 'IN_CEGUEIRA' 'IN_SABATISTA' 'IN_DISLEXIA' 'IN_GESTANTE'\n",
      " 'TP_ANO_CONCLUIU' 'TP_PRESENCA_MT' 'IN_SURDEZ' 'TP_ST_CONCLUSAO'\n",
      " 'TP_LINGUA' 'TP_PRESENCA_CN']\n",
      "\n",
      "Float64:\n",
      "['TP_DEPENDENCIA_ADM_ESC' 'NU_NOTA_CN' 'NU_NOTA_COMP3' 'TP_STATUS_REDACAO'\n",
      " 'NU_NOTA_CH' 'NU_NOTA_COMP5' 'NU_NOTA_REDACAO' 'NU_NOTA_COMP4'\n",
      " 'NU_NOTA_COMP2' 'NU_NOTA_LC' 'TP_ENSINO' 'NU_NOTA_COMP1' 'istrain']\n",
      "\n",
      "Strings:\n",
      "['Q047' 'Q027' 'Q025' 'Q001' 'Q006' 'Q002' 'TP_SEXO' 'Q026' 'Q024'\n",
      " 'NU_INSCRICAO' 'SG_UF_RESIDENCIA']\n"
     ]
    }
   ],
   "source": [
    "print('Int64:')\n",
    "print(df_full.select_dtypes(include='Int64').columns.values)\n",
    "print('\\nFloat64:')\n",
    "print(df_full.select_dtypes(include='Float64').columns.values)\n",
    "print('\\nStrings:')\n",
    "print(df_full.select_dtypes(include='object').columns.values)"
   ]
  },
  {
   "cell_type": "markdown",
   "metadata": {},
   "source": [
    "### Data Cleaning"
   ]
  },
  {
   "cell_type": "code",
   "execution_count": 6,
   "metadata": {},
   "outputs": [],
   "source": [
    "#Returns null values (%)\n",
    "def get_nans(df):\n",
    "    nan_dic = {}\n",
    "    for col in df.columns:\n",
    "        if df[col].isnull().any() == True:\n",
    "            nan_dic[col] = df[col].isnull().sum()\n",
    "    return pd.DataFrame({\n",
    "        'Feature': list(nan_dic.keys()),\n",
    "        'Nulls': list(nan_dic.values()),\n",
    "        'Percent': np.round((np.array(list(nan_dic.values())) / df.shape[0])*100, decimals = 1)\n",
    "    }).sort_values('Nulls',ascending = False)\n",
    "\n",
    "#Returns 0 values (%)\n",
    "def get_zeros(df):\n",
    "    zero_dic = {}\n",
    "    for col in df.columns:\n",
    "        if (df[col] == 0).sum() > 0:\n",
    "            zero_dic[col] = (df[col] == 0).sum()\n",
    "    return pd.DataFrame({'Feature': list(zero_dic.keys()),\n",
    "                        'Zeros': list(zero_dic.values()),\n",
    "                        'Percent': np.round((np.array(list(zero_dic.values())) / df.shape[0])*100, decimals = 1)\n",
    "    }).sort_values('Zeros',ascending = False)"
   ]
  },
  {
   "cell_type": "code",
   "execution_count": 7,
   "metadata": {},
   "outputs": [
    {
     "name": "stdout",
     "output_type": "stream",
     "text": [
      "Sumário dos nulos:\n",
      "                   Feature  Nulls  Percent\n",
      "0   TP_DEPENDENCIA_ADM_ESC  12592     68.8\n",
      "10               TP_ENSINO  12592     68.8\n",
      "2            NU_NOTA_COMP3   4767     26.0\n",
      "3        TP_STATUS_REDACAO   4767     26.0\n",
      "5            NU_NOTA_COMP5   4767     26.0\n",
      "6          NU_NOTA_REDACAO   4767     26.0\n",
      "7            NU_NOTA_COMP4   4767     26.0\n",
      "8            NU_NOTA_COMP2   4767     26.0\n",
      "9               NU_NOTA_LC   4767     26.0\n",
      "11           NU_NOTA_COMP1   4767     26.0\n",
      "1               NU_NOTA_CN   4501     24.6\n",
      "4               NU_NOTA_CH   4501     24.6\n",
      "\n",
      "Sumário dos zeros:\n",
      "             Feature  Zeros  Percent\n",
      "12    IN_DISCALCULIA  18299    100.0\n",
      "14       IN_CEGUEIRA  18299    100.0\n",
      "16       IN_DISLEXIA  18298    100.0\n",
      "11          IN_IDOSO  18297    100.0\n",
      "20         IN_SURDEZ  18295    100.0\n",
      "17       IN_GESTANTE  18283     99.9\n",
      "5     IN_BAIXA_VISAO  18273     99.9\n",
      "15      IN_SABATISTA  18126     99.0\n",
      "18   TP_ANO_CONCLUIU   9578     52.3\n",
      "22         TP_LINGUA   7365     40.2\n",
      "19    TP_PRESENCA_MT   4757     26.0\n",
      "3     TP_PRESENCA_LC   4757     26.0\n",
      "25           istrain   4570     25.0\n",
      "23    TP_PRESENCA_CN   4492     24.5\n",
      "2     TP_PRESENCA_CH   4492     24.5\n",
      "8      NU_NOTA_COMP5    930      5.1\n",
      "1      NU_NOTA_COMP3    330      1.8\n",
      "10     NU_NOTA_COMP4    330      1.8\n",
      "7        TP_COR_RACA    322      1.8\n",
      "24     NU_NOTA_COMP1    314      1.7\n",
      "13     NU_NOTA_COMP2    312      1.7\n",
      "9    NU_NOTA_REDACAO    312      1.7\n",
      "6   TP_NACIONALIDADE     15      0.1\n",
      "21        NU_NOTA_LC     11      0.1\n",
      "0         NU_NOTA_CN      9      0.0\n",
      "4         NU_NOTA_CH      4      0.0\n"
     ]
    }
   ],
   "source": [
    "#Situação das variáveis numéricas\n",
    "\n",
    "print('Sumário dos nulos:')\n",
    "print(get_nans(df_num))\n",
    "print('')\n",
    "print('Sumário dos zeros:')\n",
    "print(get_zeros(df_num))"
   ]
  },
  {
   "cell_type": "code",
   "execution_count": 8,
   "metadata": {},
   "outputs": [
    {
     "name": "stdout",
     "output_type": "stream",
     "text": [
      "Sumário dos nulos:\n",
      "  Feature  Nulls  Percent\n",
      "0    Q027   9810     53.6\n"
     ]
    }
   ],
   "source": [
    "#Situação das variáveis categóricas\n",
    "\n",
    "print('Sumário dos nulos:')\n",
    "print(get_nans(df_str))"
   ]
  },
  {
   "cell_type": "code",
   "execution_count": 9,
   "metadata": {},
   "outputs": [
    {
     "data": {
      "text/plain": [
       "CO_UF_RESIDENCIA              0\n",
       "Q047                          0\n",
       "TP_DEPENDENCIA_ADM_ESC    12592\n",
       "NU_NOTA_CN                 4501\n",
       "Q027                       9810\n",
       "NU_NOTA_COMP3              4767\n",
       "TP_PRESENCA_CH                0\n",
       "TP_STATUS_REDACAO          4767\n",
       "TP_PRESENCA_LC                0\n",
       "NU_NOTA_CH                 4501\n",
       "IN_BAIXA_VISAO                0\n",
       "TP_NACIONALIDADE              0\n",
       "Q025                          0\n",
       "Q001                          0\n",
       "TP_COR_RACA                   0\n",
       "NU_IDADE                      0\n",
       "Q006                          0\n",
       "NU_NOTA_COMP5              4767\n",
       "NU_NOTA_REDACAO            4767\n",
       "NU_NOTA_COMP4              4767\n",
       "IN_IDOSO                      0\n",
       "IN_DISCALCULIA                0\n",
       "NU_NOTA_COMP2              4767\n",
       "TP_ESCOLA                     0\n",
       "IN_CEGUEIRA                   0\n",
       "IN_SABATISTA                  0\n",
       "IN_DISLEXIA                   0\n",
       "IN_GESTANTE                   0\n",
       "TP_ANO_CONCLUIU               0\n",
       "Q002                          0\n",
       "TP_PRESENCA_MT                0\n",
       "TP_SEXO                       0\n",
       "Q026                          0\n",
       "IN_SURDEZ                     0\n",
       "TP_ST_CONCLUSAO               0\n",
       "NU_NOTA_LC                 4767\n",
       "TP_ENSINO                 12592\n",
       "Q024                          0\n",
       "NU_INSCRICAO                  0\n",
       "SG_UF_RESIDENCIA              0\n",
       "TP_LINGUA                     0\n",
       "TP_PRESENCA_CN                0\n",
       "NU_NOTA_COMP1              4767\n",
       "istrain                       0\n",
       "dtype: int64"
      ]
     },
     "execution_count": 9,
     "metadata": {},
     "output_type": "execute_result"
    }
   ],
   "source": [
    "df_full.isna().sum()"
   ]
  },
  {
   "cell_type": "code",
   "execution_count": 10,
   "metadata": {},
   "outputs": [],
   "source": [
    "#Cleaner\n",
    "\n",
    "class Cleaner:\n",
    "    \n",
    "    from sklearn.preprocessing import MinMaxScaler\n",
    "    \n",
    "    def __init__(self, dataframe, bin_list = [], scaler_list = [], ordinal_list = [], dummy_list = [], clean_nan = False):    \n",
    "        self.dataframe = dataframe\n",
    "        self.bin_list = bin_list\n",
    "        self.scaler_list = scaler_list\n",
    "        self.ordinal_list = ordinal_list\n",
    "        self.dummy_list = dummy_list\n",
    "        self.clean_nan = clean_nan\n",
    "    \n",
    "    def transform(self):    \n",
    "        dataframe = self.dataframe\n",
    "        dataframe_cols = dataframe.columns.values.tolist()\n",
    "\n",
    "        #Binariza\n",
    "        if bool(self.bin_list):\n",
    "            for col in self.bin_list:\n",
    "                dataframe[col] = [0 if x == 0 else 1 for x in dataframe[col]]\n",
    "\n",
    "        #Escalona(MinMax)\n",
    "        if bool(self.scaler_list):\n",
    "            scaler = MinMaxScaler()\n",
    "            dataframe.loc[:,self.scaler_list] = scaler.fit_transform(dataframe.loc[:,self.scaler_list])\n",
    "\n",
    "        #Label Ordinal  \n",
    "        if bool(self.ordinal_list):\n",
    "            for col in self.ordinal_list:\n",
    "                dataframe[col] = dataframe[col].map({'M':13, 'K':12, 'L':11, 'J':10, 'I':9, 'H':8, 'G':7,\n",
    "                                                     'F':6, 'E':5, 'D':4, 'C':3, 'B':2, 'A':1, np.nan:0})\n",
    "\n",
    "\n",
    "        if bool(self.dummy_list):\n",
    "            dataframe = pd.get_dummies(dataframe, columns=self.dummy_list, drop_first=True)\n",
    "\n",
    "        if self.clean_nan:\n",
    "            for col in dataframe.select_dtypes(exclude='object').columns.tolist():\n",
    "                dataframe[col].fillna(dataframe[col].median(), inplace = True)\n",
    "\n",
    "      \n",
    "        return dataframe"
   ]
  },
  {
   "cell_type": "code",
   "execution_count": 11,
   "metadata": {},
   "outputs": [
    {
     "data": {
      "text/html": [
       "<div>\n",
       "<style scoped>\n",
       "    .dataframe tbody tr th:only-of-type {\n",
       "        vertical-align: middle;\n",
       "    }\n",
       "\n",
       "    .dataframe tbody tr th {\n",
       "        vertical-align: top;\n",
       "    }\n",
       "\n",
       "    .dataframe thead th {\n",
       "        text-align: right;\n",
       "    }\n",
       "</style>\n",
       "<table border=\"1\" class=\"dataframe\">\n",
       "  <thead>\n",
       "    <tr style=\"text-align: right;\">\n",
       "      <th></th>\n",
       "      <th>CO_UF_RESIDENCIA</th>\n",
       "      <th>Q047</th>\n",
       "      <th>TP_DEPENDENCIA_ADM_ESC</th>\n",
       "      <th>NU_NOTA_CN</th>\n",
       "      <th>Q027</th>\n",
       "      <th>NU_NOTA_COMP3</th>\n",
       "      <th>TP_PRESENCA_CH</th>\n",
       "      <th>TP_STATUS_REDACAO</th>\n",
       "      <th>TP_PRESENCA_LC</th>\n",
       "      <th>NU_NOTA_CH</th>\n",
       "      <th>...</th>\n",
       "      <th>TP_ST_CONCLUSAO</th>\n",
       "      <th>NU_NOTA_LC</th>\n",
       "      <th>TP_ENSINO</th>\n",
       "      <th>Q024</th>\n",
       "      <th>NU_INSCRICAO</th>\n",
       "      <th>SG_UF_RESIDENCIA</th>\n",
       "      <th>TP_LINGUA</th>\n",
       "      <th>TP_PRESENCA_CN</th>\n",
       "      <th>NU_NOTA_COMP1</th>\n",
       "      <th>istrain</th>\n",
       "    </tr>\n",
       "  </thead>\n",
       "  <tbody>\n",
       "    <tr>\n",
       "      <th>0</th>\n",
       "      <td>43</td>\n",
       "      <td>A</td>\n",
       "      <td>NaN</td>\n",
       "      <td>436.3</td>\n",
       "      <td>H</td>\n",
       "      <td>120.0</td>\n",
       "      <td>1</td>\n",
       "      <td>1.0</td>\n",
       "      <td>1</td>\n",
       "      <td>495.4</td>\n",
       "      <td>...</td>\n",
       "      <td>1</td>\n",
       "      <td>581.2</td>\n",
       "      <td>NaN</td>\n",
       "      <td>A</td>\n",
       "      <td>ed50e8aaa58e7a806c337585efee9ca41f1eb1ad</td>\n",
       "      <td>RS</td>\n",
       "      <td>1</td>\n",
       "      <td>1</td>\n",
       "      <td>120.0</td>\n",
       "      <td>1.0</td>\n",
       "    </tr>\n",
       "    <tr>\n",
       "      <th>1</th>\n",
       "      <td>23</td>\n",
       "      <td>A</td>\n",
       "      <td>2.0</td>\n",
       "      <td>474.5</td>\n",
       "      <td>NaN</td>\n",
       "      <td>120.0</td>\n",
       "      <td>1</td>\n",
       "      <td>1.0</td>\n",
       "      <td>1</td>\n",
       "      <td>544.1</td>\n",
       "      <td>...</td>\n",
       "      <td>2</td>\n",
       "      <td>599.0</td>\n",
       "      <td>1.0</td>\n",
       "      <td>A</td>\n",
       "      <td>2c3acac4b33ec2b195d77e7c04a2d75727fad723</td>\n",
       "      <td>CE</td>\n",
       "      <td>1</td>\n",
       "      <td>1</td>\n",
       "      <td>140.0</td>\n",
       "      <td>1.0</td>\n",
       "    </tr>\n",
       "    <tr>\n",
       "      <th>2</th>\n",
       "      <td>23</td>\n",
       "      <td>A</td>\n",
       "      <td>NaN</td>\n",
       "      <td>NaN</td>\n",
       "      <td>NaN</td>\n",
       "      <td>NaN</td>\n",
       "      <td>0</td>\n",
       "      <td>NaN</td>\n",
       "      <td>0</td>\n",
       "      <td>NaN</td>\n",
       "      <td>...</td>\n",
       "      <td>3</td>\n",
       "      <td>NaN</td>\n",
       "      <td>NaN</td>\n",
       "      <td>A</td>\n",
       "      <td>f4545f8ccb9ff5c8aad7d32951b3f251a26e6568</td>\n",
       "      <td>CE</td>\n",
       "      <td>1</td>\n",
       "      <td>0</td>\n",
       "      <td>NaN</td>\n",
       "      <td>1.0</td>\n",
       "    </tr>\n",
       "    <tr>\n",
       "      <th>3</th>\n",
       "      <td>33</td>\n",
       "      <td>D</td>\n",
       "      <td>NaN</td>\n",
       "      <td>NaN</td>\n",
       "      <td>F</td>\n",
       "      <td>NaN</td>\n",
       "      <td>0</td>\n",
       "      <td>NaN</td>\n",
       "      <td>0</td>\n",
       "      <td>NaN</td>\n",
       "      <td>...</td>\n",
       "      <td>1</td>\n",
       "      <td>NaN</td>\n",
       "      <td>NaN</td>\n",
       "      <td>C</td>\n",
       "      <td>3d6ec248fef899c414e77f82d5c6d2bffbeaf7fe</td>\n",
       "      <td>RJ</td>\n",
       "      <td>0</td>\n",
       "      <td>0</td>\n",
       "      <td>NaN</td>\n",
       "      <td>1.0</td>\n",
       "    </tr>\n",
       "    <tr>\n",
       "      <th>4</th>\n",
       "      <td>13</td>\n",
       "      <td>A</td>\n",
       "      <td>NaN</td>\n",
       "      <td>NaN</td>\n",
       "      <td>F</td>\n",
       "      <td>NaN</td>\n",
       "      <td>0</td>\n",
       "      <td>NaN</td>\n",
       "      <td>0</td>\n",
       "      <td>NaN</td>\n",
       "      <td>...</td>\n",
       "      <td>1</td>\n",
       "      <td>NaN</td>\n",
       "      <td>NaN</td>\n",
       "      <td>A</td>\n",
       "      <td>bf896ac8d3ecadd6dba1dfbf50110afcbf5d3268</td>\n",
       "      <td>AM</td>\n",
       "      <td>1</td>\n",
       "      <td>0</td>\n",
       "      <td>NaN</td>\n",
       "      <td>1.0</td>\n",
       "    </tr>\n",
       "  </tbody>\n",
       "</table>\n",
       "<p>5 rows × 44 columns</p>\n",
       "</div>"
      ],
      "text/plain": [
       "   CO_UF_RESIDENCIA Q047  TP_DEPENDENCIA_ADM_ESC  NU_NOTA_CN Q027  \\\n",
       "0                43    A                     NaN       436.3    H   \n",
       "1                23    A                     2.0       474.5  NaN   \n",
       "2                23    A                     NaN         NaN  NaN   \n",
       "3                33    D                     NaN         NaN    F   \n",
       "4                13    A                     NaN         NaN    F   \n",
       "\n",
       "   NU_NOTA_COMP3  TP_PRESENCA_CH  TP_STATUS_REDACAO  TP_PRESENCA_LC  \\\n",
       "0          120.0               1                1.0               1   \n",
       "1          120.0               1                1.0               1   \n",
       "2            NaN               0                NaN               0   \n",
       "3            NaN               0                NaN               0   \n",
       "4            NaN               0                NaN               0   \n",
       "\n",
       "   NU_NOTA_CH  ...  TP_ST_CONCLUSAO  NU_NOTA_LC TP_ENSINO Q024  \\\n",
       "0       495.4  ...                1       581.2       NaN    A   \n",
       "1       544.1  ...                2       599.0       1.0    A   \n",
       "2         NaN  ...                3         NaN       NaN    A   \n",
       "3         NaN  ...                1         NaN       NaN    C   \n",
       "4         NaN  ...                1         NaN       NaN    A   \n",
       "\n",
       "                               NU_INSCRICAO  SG_UF_RESIDENCIA TP_LINGUA  \\\n",
       "0  ed50e8aaa58e7a806c337585efee9ca41f1eb1ad                RS         1   \n",
       "1  2c3acac4b33ec2b195d77e7c04a2d75727fad723                CE         1   \n",
       "2  f4545f8ccb9ff5c8aad7d32951b3f251a26e6568                CE         1   \n",
       "3  3d6ec248fef899c414e77f82d5c6d2bffbeaf7fe                RJ         0   \n",
       "4  bf896ac8d3ecadd6dba1dfbf50110afcbf5d3268                AM         1   \n",
       "\n",
       "   TP_PRESENCA_CN  NU_NOTA_COMP1  istrain  \n",
       "0               1          120.0      1.0  \n",
       "1               1          140.0      1.0  \n",
       "2               0            NaN      1.0  \n",
       "3               0            NaN      1.0  \n",
       "4               0            NaN      1.0  \n",
       "\n",
       "[5 rows x 44 columns]"
      ]
     },
     "execution_count": 11,
     "metadata": {},
     "output_type": "execute_result"
    }
   ],
   "source": [
    "df_full.head()"
   ]
  },
  {
   "cell_type": "code",
   "execution_count": 12,
   "metadata": {},
   "outputs": [
    {
     "name": "stdout",
     "output_type": "stream",
     "text": [
      "Shape antes do dummify: (18300, 44)\n",
      "Shape após o dummify: (18300, 69)\n"
     ]
    }
   ],
   "source": [
    "\n",
    "#Variáveis que são ordinais\n",
    "ordinal_list = ['Q001','Q006','Q047', 'Q025', 'Q026', 'Q002', 'Q024', 'Q027']\n",
    "\n",
    "dummy_list = ['SG_UF_RESIDENCIA', 'TP_SEXO', ]\n",
    "\n",
    "#Instânciando cleaner\n",
    "cleaner = Cleaner(df_full,\n",
    "                  ordinal_list = ordinal_list,\n",
    "                  dummy_list = dummy_list,\n",
    "                  clean_nan = True)\n",
    "\n",
    "print(f'Shape antes do dummify: {df_full.shape}')\n",
    "\n",
    "#Aplicando transformações\n",
    "df_full = cleaner.transform()\n",
    "\n",
    "#Shape\n",
    "print(f'Shape após o dummify: {df_full.shape}')"
   ]
  },
  {
   "cell_type": "markdown",
   "metadata": {},
   "source": [
    "### Exploratory Data Analysis"
   ]
  },
  {
   "cell_type": "code",
   "execution_count": 13,
   "metadata": {
    "scrolled": true
   },
   "outputs": [
    {
     "data": {
      "text/plain": [
       "0    11947\n",
       "1     1783\n",
       "Name: IN_TREINEIRO, dtype: int64"
      ]
     },
     "execution_count": 13,
     "metadata": {},
     "output_type": "execute_result"
    }
   ],
   "source": [
    "target.value_counts()"
   ]
  },
  {
   "cell_type": "code",
   "execution_count": 14,
   "metadata": {},
   "outputs": [],
   "source": [
    "df_full.drop('NU_INSCRICAO', axis = 1, inplace = True)"
   ]
  },
  {
   "cell_type": "markdown",
   "metadata": {},
   "source": [
    "### Scaling"
   ]
  },
  {
   "cell_type": "code",
   "execution_count": 15,
   "metadata": {},
   "outputs": [],
   "source": [
    "def scaling(df):\n",
    "    scaler = StandardScaler()\n",
    "    for col in df.columns:\n",
    "\n",
    "        if col == 'istrain':\n",
    "            pass\n",
    "\n",
    "        elif df[col].unique().tolist() != [0,1]:\n",
    "            df[col] = scaler.fit_transform(df[[col]])\n",
    "    return df\n",
    "\n",
    "#Aplicando scaling\n",
    "df_full = scaling(df_full)"
   ]
  },
  {
   "cell_type": "code",
   "execution_count": 16,
   "metadata": {
    "scrolled": false
   },
   "outputs": [
    {
     "data": {
      "text/html": [
       "<div>\n",
       "<style scoped>\n",
       "    .dataframe tbody tr th:only-of-type {\n",
       "        vertical-align: middle;\n",
       "    }\n",
       "\n",
       "    .dataframe tbody tr th {\n",
       "        vertical-align: top;\n",
       "    }\n",
       "\n",
       "    .dataframe thead th {\n",
       "        text-align: right;\n",
       "    }\n",
       "</style>\n",
       "<table border=\"1\" class=\"dataframe\">\n",
       "  <thead>\n",
       "    <tr style=\"text-align: right;\">\n",
       "      <th></th>\n",
       "      <th>CO_UF_RESIDENCIA</th>\n",
       "      <th>Q047</th>\n",
       "      <th>TP_DEPENDENCIA_ADM_ESC</th>\n",
       "      <th>NU_NOTA_CN</th>\n",
       "      <th>Q027</th>\n",
       "      <th>NU_NOTA_COMP3</th>\n",
       "      <th>TP_PRESENCA_CH</th>\n",
       "      <th>TP_STATUS_REDACAO</th>\n",
       "      <th>TP_PRESENCA_LC</th>\n",
       "      <th>NU_NOTA_CH</th>\n",
       "      <th>...</th>\n",
       "      <th>SG_UF_RESIDENCIA_RJ</th>\n",
       "      <th>SG_UF_RESIDENCIA_RN</th>\n",
       "      <th>SG_UF_RESIDENCIA_RO</th>\n",
       "      <th>SG_UF_RESIDENCIA_RR</th>\n",
       "      <th>SG_UF_RESIDENCIA_RS</th>\n",
       "      <th>SG_UF_RESIDENCIA_SC</th>\n",
       "      <th>SG_UF_RESIDENCIA_SE</th>\n",
       "      <th>SG_UF_RESIDENCIA_SP</th>\n",
       "      <th>SG_UF_RESIDENCIA_TO</th>\n",
       "      <th>TP_SEXO_M</th>\n",
       "    </tr>\n",
       "  </thead>\n",
       "  <tbody>\n",
       "    <tr>\n",
       "      <th>0</th>\n",
       "      <td>1.234775</td>\n",
       "      <td>-0.388067</td>\n",
       "      <td>-0.201491</td>\n",
       "      <td>-0.547712</td>\n",
       "      <td>1.932472</td>\n",
       "      <td>0.329729</td>\n",
       "      <td>0.568101</td>\n",
       "      <td>-0.122407</td>\n",
       "      <td>0.590147</td>\n",
       "      <td>-0.540310</td>\n",
       "      <td>...</td>\n",
       "      <td>0</td>\n",
       "      <td>0</td>\n",
       "      <td>0</td>\n",
       "      <td>0</td>\n",
       "      <td>4.857651</td>\n",
       "      <td>0</td>\n",
       "      <td>0</td>\n",
       "      <td>0</td>\n",
       "      <td>0</td>\n",
       "      <td>1.263519</td>\n",
       "    </tr>\n",
       "    <tr>\n",
       "      <th>1</th>\n",
       "      <td>-0.791070</td>\n",
       "      <td>-0.388067</td>\n",
       "      <td>-0.201491</td>\n",
       "      <td>0.068879</td>\n",
       "      <td>-0.755469</td>\n",
       "      <td>0.329729</td>\n",
       "      <td>0.568101</td>\n",
       "      <td>-0.122407</td>\n",
       "      <td>0.590147</td>\n",
       "      <td>0.221495</td>\n",
       "      <td>...</td>\n",
       "      <td>0</td>\n",
       "      <td>0</td>\n",
       "      <td>0</td>\n",
       "      <td>0</td>\n",
       "      <td>-0.205861</td>\n",
       "      <td>0</td>\n",
       "      <td>0</td>\n",
       "      <td>0</td>\n",
       "      <td>0</td>\n",
       "      <td>-0.791440</td>\n",
       "    </tr>\n",
       "    <tr>\n",
       "      <th>2</th>\n",
       "      <td>-0.791070</td>\n",
       "      <td>-0.388067</td>\n",
       "      <td>-0.201491</td>\n",
       "      <td>-0.166781</td>\n",
       "      <td>-0.755469</td>\n",
       "      <td>0.329729</td>\n",
       "      <td>-1.750938</td>\n",
       "      <td>-0.122407</td>\n",
       "      <td>-1.684908</td>\n",
       "      <td>0.025960</td>\n",
       "      <td>...</td>\n",
       "      <td>0</td>\n",
       "      <td>0</td>\n",
       "      <td>0</td>\n",
       "      <td>0</td>\n",
       "      <td>-0.205861</td>\n",
       "      <td>0</td>\n",
       "      <td>0</td>\n",
       "      <td>0</td>\n",
       "      <td>0</td>\n",
       "      <td>-0.791440</td>\n",
       "    </tr>\n",
       "    <tr>\n",
       "      <th>3</th>\n",
       "      <td>0.221852</td>\n",
       "      <td>2.529208</td>\n",
       "      <td>-0.201491</td>\n",
       "      <td>-0.166781</td>\n",
       "      <td>1.260486</td>\n",
       "      <td>0.329729</td>\n",
       "      <td>-1.750938</td>\n",
       "      <td>-0.122407</td>\n",
       "      <td>-1.684908</td>\n",
       "      <td>0.025960</td>\n",
       "      <td>...</td>\n",
       "      <td>1</td>\n",
       "      <td>0</td>\n",
       "      <td>0</td>\n",
       "      <td>0</td>\n",
       "      <td>-0.205861</td>\n",
       "      <td>0</td>\n",
       "      <td>0</td>\n",
       "      <td>0</td>\n",
       "      <td>0</td>\n",
       "      <td>-0.791440</td>\n",
       "    </tr>\n",
       "    <tr>\n",
       "      <th>4</th>\n",
       "      <td>-1.803993</td>\n",
       "      <td>-0.388067</td>\n",
       "      <td>-0.201491</td>\n",
       "      <td>-0.166781</td>\n",
       "      <td>1.260486</td>\n",
       "      <td>0.329729</td>\n",
       "      <td>-1.750938</td>\n",
       "      <td>-0.122407</td>\n",
       "      <td>-1.684908</td>\n",
       "      <td>0.025960</td>\n",
       "      <td>...</td>\n",
       "      <td>0</td>\n",
       "      <td>0</td>\n",
       "      <td>0</td>\n",
       "      <td>0</td>\n",
       "      <td>-0.205861</td>\n",
       "      <td>0</td>\n",
       "      <td>0</td>\n",
       "      <td>0</td>\n",
       "      <td>0</td>\n",
       "      <td>1.263519</td>\n",
       "    </tr>\n",
       "  </tbody>\n",
       "</table>\n",
       "<p>5 rows × 68 columns</p>\n",
       "</div>"
      ],
      "text/plain": [
       "   CO_UF_RESIDENCIA      Q047  TP_DEPENDENCIA_ADM_ESC  NU_NOTA_CN      Q027  \\\n",
       "0          1.234775 -0.388067               -0.201491   -0.547712  1.932472   \n",
       "1         -0.791070 -0.388067               -0.201491    0.068879 -0.755469   \n",
       "2         -0.791070 -0.388067               -0.201491   -0.166781 -0.755469   \n",
       "3          0.221852  2.529208               -0.201491   -0.166781  1.260486   \n",
       "4         -1.803993 -0.388067               -0.201491   -0.166781  1.260486   \n",
       "\n",
       "   NU_NOTA_COMP3  TP_PRESENCA_CH  TP_STATUS_REDACAO  TP_PRESENCA_LC  \\\n",
       "0       0.329729        0.568101          -0.122407        0.590147   \n",
       "1       0.329729        0.568101          -0.122407        0.590147   \n",
       "2       0.329729       -1.750938          -0.122407       -1.684908   \n",
       "3       0.329729       -1.750938          -0.122407       -1.684908   \n",
       "4       0.329729       -1.750938          -0.122407       -1.684908   \n",
       "\n",
       "   NU_NOTA_CH  ...  SG_UF_RESIDENCIA_RJ  SG_UF_RESIDENCIA_RN  \\\n",
       "0   -0.540310  ...                    0                    0   \n",
       "1    0.221495  ...                    0                    0   \n",
       "2    0.025960  ...                    0                    0   \n",
       "3    0.025960  ...                    1                    0   \n",
       "4    0.025960  ...                    0                    0   \n",
       "\n",
       "   SG_UF_RESIDENCIA_RO  SG_UF_RESIDENCIA_RR  SG_UF_RESIDENCIA_RS  \\\n",
       "0                    0                    0             4.857651   \n",
       "1                    0                    0            -0.205861   \n",
       "2                    0                    0            -0.205861   \n",
       "3                    0                    0            -0.205861   \n",
       "4                    0                    0            -0.205861   \n",
       "\n",
       "   SG_UF_RESIDENCIA_SC  SG_UF_RESIDENCIA_SE  SG_UF_RESIDENCIA_SP  \\\n",
       "0                    0                    0                    0   \n",
       "1                    0                    0                    0   \n",
       "2                    0                    0                    0   \n",
       "3                    0                    0                    0   \n",
       "4                    0                    0                    0   \n",
       "\n",
       "   SG_UF_RESIDENCIA_TO  TP_SEXO_M  \n",
       "0                    0   1.263519  \n",
       "1                    0  -0.791440  \n",
       "2                    0  -0.791440  \n",
       "3                    0  -0.791440  \n",
       "4                    0   1.263519  \n",
       "\n",
       "[5 rows x 68 columns]"
      ]
     },
     "execution_count": 16,
     "metadata": {},
     "output_type": "execute_result"
    }
   ],
   "source": [
    "df_full.head()"
   ]
  },
  {
   "cell_type": "code",
   "execution_count": 17,
   "metadata": {},
   "outputs": [
    {
     "data": {
      "text/plain": [
       "(18300, 68)"
      ]
     },
     "execution_count": 17,
     "metadata": {},
     "output_type": "execute_result"
    }
   ],
   "source": [
    "df_full.shape"
   ]
  },
  {
   "cell_type": "markdown",
   "metadata": {},
   "source": [
    "### Baseline model"
   ]
  },
  {
   "cell_type": "code",
   "execution_count": 19,
   "metadata": {
    "scrolled": false
   },
   "outputs": [
    {
     "name": "stdout",
     "output_type": "stream",
     "text": [
      "Train shape: (13730, 68)\n",
      "Test shape: (4570, 68)\n",
      "Target shape: (13730,)\n"
     ]
    }
   ],
   "source": [
    "#Separando\n",
    "df_train = df_full.loc[df_full.istrain == 1]\n",
    "df_test = df_full.loc[df_full.istrain == 0]\n",
    "\n",
    "print(f'Train shape: {df_train.shape}')\n",
    "print(f'Test shape: {df_test.shape}')\n",
    "print(f'Target shape: {target.shape}')"
   ]
  },
  {
   "cell_type": "code",
   "execution_count": 20,
   "metadata": {},
   "outputs": [],
   "source": [
    "y = target.fillna(0)\n",
    "X = df_train"
   ]
  },
  {
   "cell_type": "code",
   "execution_count": 21,
   "metadata": {},
   "outputs": [],
   "source": [
    "# Split into training and test set\n",
    "X_train, X_test, y_train, y_test = train_test_split(X, y, test_size = 0.30, random_state=42)\n"
   ]
  },
  {
   "cell_type": "code",
   "execution_count": 26,
   "metadata": {},
   "outputs": [
    {
     "data": {
      "text/plain": [
       "(0.9946935802726043, 0.9941733430444283)"
      ]
     },
     "execution_count": 26,
     "metadata": {},
     "output_type": "execute_result"
    }
   ],
   "source": [
    "from sklearn.ensemble import RandomForestClassifier\n",
    "\n",
    "reg = RandomForestClassifier(max_depth = 7, random_state= 42).fit(X_train, y_train)\n",
    "reg.score(X_train, y_train), reg.score(X_test, y_test)"
   ]
  },
  {
   "cell_type": "markdown",
   "metadata": {},
   "source": [
    "**Um modelo baseline é importante para identificarmos o ponto de partida do modelo. Devemos aprimorar essa abordagem e comparar os futuros scores com este, realizado com pouco esforço de feature selection, feature engineering e tuning de hiperparâmetros.**"
   ]
  },
  {
   "cell_type": "code",
   "execution_count": 27,
   "metadata": {},
   "outputs": [
    {
     "data": {
      "text/html": [
       "<div>\n",
       "<style scoped>\n",
       "    .dataframe tbody tr th:only-of-type {\n",
       "        vertical-align: middle;\n",
       "    }\n",
       "\n",
       "    .dataframe tbody tr th {\n",
       "        vertical-align: top;\n",
       "    }\n",
       "\n",
       "    .dataframe thead th {\n",
       "        text-align: right;\n",
       "    }\n",
       "</style>\n",
       "<table border=\"1\" class=\"dataframe\">\n",
       "  <thead>\n",
       "    <tr style=\"text-align: right;\">\n",
       "      <th></th>\n",
       "      <th>CO_UF_RESIDENCIA</th>\n",
       "      <th>Q047</th>\n",
       "      <th>TP_DEPENDENCIA_ADM_ESC</th>\n",
       "      <th>NU_NOTA_CN</th>\n",
       "      <th>Q027</th>\n",
       "      <th>NU_NOTA_COMP3</th>\n",
       "      <th>TP_PRESENCA_CH</th>\n",
       "      <th>TP_STATUS_REDACAO</th>\n",
       "      <th>TP_PRESENCA_LC</th>\n",
       "      <th>NU_NOTA_CH</th>\n",
       "      <th>...</th>\n",
       "      <th>SG_UF_RESIDENCIA_RJ</th>\n",
       "      <th>SG_UF_RESIDENCIA_RN</th>\n",
       "      <th>SG_UF_RESIDENCIA_RO</th>\n",
       "      <th>SG_UF_RESIDENCIA_RR</th>\n",
       "      <th>SG_UF_RESIDENCIA_RS</th>\n",
       "      <th>SG_UF_RESIDENCIA_SC</th>\n",
       "      <th>SG_UF_RESIDENCIA_SE</th>\n",
       "      <th>SG_UF_RESIDENCIA_SP</th>\n",
       "      <th>SG_UF_RESIDENCIA_TO</th>\n",
       "      <th>TP_SEXO_M</th>\n",
       "    </tr>\n",
       "  </thead>\n",
       "  <tbody>\n",
       "    <tr>\n",
       "      <th>0</th>\n",
       "      <td>1.234775</td>\n",
       "      <td>-0.388067</td>\n",
       "      <td>-0.201491</td>\n",
       "      <td>-0.547712</td>\n",
       "      <td>1.932472</td>\n",
       "      <td>0.329729</td>\n",
       "      <td>0.568101</td>\n",
       "      <td>-0.122407</td>\n",
       "      <td>0.590147</td>\n",
       "      <td>-0.540310</td>\n",
       "      <td>...</td>\n",
       "      <td>0</td>\n",
       "      <td>0</td>\n",
       "      <td>0</td>\n",
       "      <td>0</td>\n",
       "      <td>4.857651</td>\n",
       "      <td>0</td>\n",
       "      <td>0</td>\n",
       "      <td>0</td>\n",
       "      <td>0</td>\n",
       "      <td>1.263519</td>\n",
       "    </tr>\n",
       "    <tr>\n",
       "      <th>1</th>\n",
       "      <td>-0.791070</td>\n",
       "      <td>-0.388067</td>\n",
       "      <td>-0.201491</td>\n",
       "      <td>0.068879</td>\n",
       "      <td>-0.755469</td>\n",
       "      <td>0.329729</td>\n",
       "      <td>0.568101</td>\n",
       "      <td>-0.122407</td>\n",
       "      <td>0.590147</td>\n",
       "      <td>0.221495</td>\n",
       "      <td>...</td>\n",
       "      <td>0</td>\n",
       "      <td>0</td>\n",
       "      <td>0</td>\n",
       "      <td>0</td>\n",
       "      <td>-0.205861</td>\n",
       "      <td>0</td>\n",
       "      <td>0</td>\n",
       "      <td>0</td>\n",
       "      <td>0</td>\n",
       "      <td>-0.791440</td>\n",
       "    </tr>\n",
       "    <tr>\n",
       "      <th>2</th>\n",
       "      <td>-0.791070</td>\n",
       "      <td>-0.388067</td>\n",
       "      <td>-0.201491</td>\n",
       "      <td>-0.166781</td>\n",
       "      <td>-0.755469</td>\n",
       "      <td>0.329729</td>\n",
       "      <td>-1.750938</td>\n",
       "      <td>-0.122407</td>\n",
       "      <td>-1.684908</td>\n",
       "      <td>0.025960</td>\n",
       "      <td>...</td>\n",
       "      <td>0</td>\n",
       "      <td>0</td>\n",
       "      <td>0</td>\n",
       "      <td>0</td>\n",
       "      <td>-0.205861</td>\n",
       "      <td>0</td>\n",
       "      <td>0</td>\n",
       "      <td>0</td>\n",
       "      <td>0</td>\n",
       "      <td>-0.791440</td>\n",
       "    </tr>\n",
       "    <tr>\n",
       "      <th>3</th>\n",
       "      <td>0.221852</td>\n",
       "      <td>2.529208</td>\n",
       "      <td>-0.201491</td>\n",
       "      <td>-0.166781</td>\n",
       "      <td>1.260486</td>\n",
       "      <td>0.329729</td>\n",
       "      <td>-1.750938</td>\n",
       "      <td>-0.122407</td>\n",
       "      <td>-1.684908</td>\n",
       "      <td>0.025960</td>\n",
       "      <td>...</td>\n",
       "      <td>1</td>\n",
       "      <td>0</td>\n",
       "      <td>0</td>\n",
       "      <td>0</td>\n",
       "      <td>-0.205861</td>\n",
       "      <td>0</td>\n",
       "      <td>0</td>\n",
       "      <td>0</td>\n",
       "      <td>0</td>\n",
       "      <td>-0.791440</td>\n",
       "    </tr>\n",
       "    <tr>\n",
       "      <th>4</th>\n",
       "      <td>-1.803993</td>\n",
       "      <td>-0.388067</td>\n",
       "      <td>-0.201491</td>\n",
       "      <td>-0.166781</td>\n",
       "      <td>1.260486</td>\n",
       "      <td>0.329729</td>\n",
       "      <td>-1.750938</td>\n",
       "      <td>-0.122407</td>\n",
       "      <td>-1.684908</td>\n",
       "      <td>0.025960</td>\n",
       "      <td>...</td>\n",
       "      <td>0</td>\n",
       "      <td>0</td>\n",
       "      <td>0</td>\n",
       "      <td>0</td>\n",
       "      <td>-0.205861</td>\n",
       "      <td>0</td>\n",
       "      <td>0</td>\n",
       "      <td>0</td>\n",
       "      <td>0</td>\n",
       "      <td>1.263519</td>\n",
       "    </tr>\n",
       "  </tbody>\n",
       "</table>\n",
       "<p>5 rows × 68 columns</p>\n",
       "</div>"
      ],
      "text/plain": [
       "   CO_UF_RESIDENCIA      Q047  TP_DEPENDENCIA_ADM_ESC  NU_NOTA_CN      Q027  \\\n",
       "0          1.234775 -0.388067               -0.201491   -0.547712  1.932472   \n",
       "1         -0.791070 -0.388067               -0.201491    0.068879 -0.755469   \n",
       "2         -0.791070 -0.388067               -0.201491   -0.166781 -0.755469   \n",
       "3          0.221852  2.529208               -0.201491   -0.166781  1.260486   \n",
       "4         -1.803993 -0.388067               -0.201491   -0.166781  1.260486   \n",
       "\n",
       "   NU_NOTA_COMP3  TP_PRESENCA_CH  TP_STATUS_REDACAO  TP_PRESENCA_LC  \\\n",
       "0       0.329729        0.568101          -0.122407        0.590147   \n",
       "1       0.329729        0.568101          -0.122407        0.590147   \n",
       "2       0.329729       -1.750938          -0.122407       -1.684908   \n",
       "3       0.329729       -1.750938          -0.122407       -1.684908   \n",
       "4       0.329729       -1.750938          -0.122407       -1.684908   \n",
       "\n",
       "   NU_NOTA_CH  ...  SG_UF_RESIDENCIA_RJ  SG_UF_RESIDENCIA_RN  \\\n",
       "0   -0.540310  ...                    0                    0   \n",
       "1    0.221495  ...                    0                    0   \n",
       "2    0.025960  ...                    0                    0   \n",
       "3    0.025960  ...                    1                    0   \n",
       "4    0.025960  ...                    0                    0   \n",
       "\n",
       "   SG_UF_RESIDENCIA_RO  SG_UF_RESIDENCIA_RR  SG_UF_RESIDENCIA_RS  \\\n",
       "0                    0                    0             4.857651   \n",
       "1                    0                    0            -0.205861   \n",
       "2                    0                    0            -0.205861   \n",
       "3                    0                    0            -0.205861   \n",
       "4                    0                    0            -0.205861   \n",
       "\n",
       "   SG_UF_RESIDENCIA_SC  SG_UF_RESIDENCIA_SE  SG_UF_RESIDENCIA_SP  \\\n",
       "0                    0                    0                    0   \n",
       "1                    0                    0                    0   \n",
       "2                    0                    0                    0   \n",
       "3                    0                    0                    0   \n",
       "4                    0                    0                    0   \n",
       "\n",
       "   SG_UF_RESIDENCIA_TO  TP_SEXO_M  \n",
       "0                    0   1.263519  \n",
       "1                    0  -0.791440  \n",
       "2                    0  -0.791440  \n",
       "3                    0  -0.791440  \n",
       "4                    0   1.263519  \n",
       "\n",
       "[5 rows x 68 columns]"
      ]
     },
     "execution_count": 27,
     "metadata": {},
     "output_type": "execute_result"
    }
   ],
   "source": [
    "df_full.head()"
   ]
  },
  {
   "cell_type": "markdown",
   "metadata": {},
   "source": [
    "**1 Submission: XGBOOST**"
   ]
  },
  {
   "cell_type": "code",
   "execution_count": 28,
   "metadata": {
    "scrolled": true
   },
   "outputs": [
    {
     "data": {
      "text/plain": [
       "XGBClassifier(base_score=0.5, booster='gbtree', colsample_bylevel=1,\n",
       "              colsample_bynode=1, colsample_bytree=1, gamma=0, gpu_id=-1,\n",
       "              importance_type='gain', interaction_constraints='',\n",
       "              learning_rate=0.300000012, max_delta_step=0, max_depth=6,\n",
       "              min_child_weight=1, missing=nan, monotone_constraints='()',\n",
       "              n_estimators=100, n_jobs=0, num_parallel_tree=1, random_state=0,\n",
       "              reg_alpha=0, reg_lambda=1, scale_pos_weight=1, subsample=1,\n",
       "              tree_method='exact', validate_parameters=1, verbosity=None)"
      ]
     },
     "execution_count": 28,
     "metadata": {},
     "output_type": "execute_result"
    }
   ],
   "source": [
    "from xgboost import XGBClassifier\n",
    "xgb = XGBClassifier()\n",
    "xgb.fit(X_train, y_train)"
   ]
  },
  {
   "cell_type": "code",
   "execution_count": 29,
   "metadata": {},
   "outputs": [
    {
     "data": {
      "text/plain": [
       "(0.9998959525543648, 0.9961155620296188)"
      ]
     },
     "execution_count": 29,
     "metadata": {},
     "output_type": "execute_result"
    }
   ],
   "source": [
    "xgb.score(X_train, y_train), xgb.score(X_test, y_test)"
   ]
  },
  {
   "cell_type": "code",
   "execution_count": 33,
   "metadata": {},
   "outputs": [],
   "source": [
    "# Submit 1\n",
    "y_sub1 = xgb.predict(df_test) # Score: 99.69\n",
    "\n",
    "pd.DataFrame({'NU_INSCRICAO':df_test_n.NU_INSCRICAO,'IN_TREINEIRO':y_sub1}).to_csv(\"answer.csv\", index= False)"
   ]
  },
  {
   "cell_type": "markdown",
   "metadata": {},
   "source": [
    "**2 Submission: Feature Selection (PCA) + XGBOOST**"
   ]
  },
  {
   "cell_type": "code",
   "execution_count": 34,
   "metadata": {},
   "outputs": [],
   "source": [
    "from sklearn.decomposition import PCA"
   ]
  },
  {
   "cell_type": "code",
   "execution_count": 63,
   "metadata": {},
   "outputs": [],
   "source": [
    "pca = PCA(n_components=40)\n",
    "X_train_pca = pca.fit_transform(X_train)\n",
    "X_test_pca = pca.transform(X_test)"
   ]
  },
  {
   "cell_type": "code",
   "execution_count": 64,
   "metadata": {
    "scrolled": true
   },
   "outputs": [
    {
     "data": {
      "text/plain": [
       "XGBClassifier(base_score=0.5, booster='gbtree', colsample_bylevel=1,\n",
       "              colsample_bynode=1, colsample_bytree=1, gamma=0, gpu_id=-1,\n",
       "              importance_type='gain', interaction_constraints='',\n",
       "              learning_rate=0.300000012, max_delta_step=0, max_depth=6,\n",
       "              min_child_weight=1, missing=nan, monotone_constraints='()',\n",
       "              n_estimators=100, n_jobs=0, num_parallel_tree=1, random_state=0,\n",
       "              reg_alpha=0, reg_lambda=1, scale_pos_weight=1, subsample=1,\n",
       "              tree_method='exact', validate_parameters=1, verbosity=None)"
      ]
     },
     "execution_count": 64,
     "metadata": {},
     "output_type": "execute_result"
    }
   ],
   "source": [
    "from xgboost import XGBClassifier\n",
    "xgb = XGBClassifier()\n",
    "xgb.fit(X_train_pca, y_train)"
   ]
  },
  {
   "cell_type": "code",
   "execution_count": 65,
   "metadata": {},
   "outputs": [
    {
     "data": {
      "text/plain": [
       "((9611, 40), (4119, 40))"
      ]
     },
     "execution_count": 65,
     "metadata": {},
     "output_type": "execute_result"
    }
   ],
   "source": [
    "X_train_pca.shape, X_test_pca.shape"
   ]
  },
  {
   "cell_type": "code",
   "execution_count": 66,
   "metadata": {
    "scrolled": true
   },
   "outputs": [
    {
     "data": {
      "text/plain": [
       "(0.9998959525543648, 0.9803350327749454)"
      ]
     },
     "execution_count": 66,
     "metadata": {},
     "output_type": "execute_result"
    }
   ],
   "source": [
    "xgb.score(X_train_pca, y_train), xgb.score(X_test_pca, y_test)"
   ]
  },
  {
   "cell_type": "code",
   "execution_count": 68,
   "metadata": {},
   "outputs": [],
   "source": [
    "# Submit 2\n",
    "df_test_pca = pca.transform(df_test)\n",
    "y_sub2 = xgb.predict(df_test_pca) # Score: 98.16\n",
    "\n",
    "pd.DataFrame({'NU_INSCRICAO':df_test_n.NU_INSCRICAO,'IN_TREINEIRO':y_sub2}).to_csv(\"answer.csv\", index= False)"
   ]
  },
  {
   "cell_type": "markdown",
   "metadata": {},
   "source": [
    "**3 Submission: Feature Selection (importance) + XGBOOST**"
   ]
  },
  {
   "cell_type": "code",
   "execution_count": 69,
   "metadata": {},
   "outputs": [
    {
     "data": {
      "text/plain": [
       "XGBClassifier(base_score=0.5, booster='gbtree', colsample_bylevel=1,\n",
       "              colsample_bynode=1, colsample_bytree=1, gamma=0, gpu_id=-1,\n",
       "              importance_type='gain', interaction_constraints='',\n",
       "              learning_rate=0.300000012, max_delta_step=0, max_depth=6,\n",
       "              min_child_weight=1, missing=nan, monotone_constraints='()',\n",
       "              n_estimators=100, n_jobs=0, num_parallel_tree=1, random_state=0,\n",
       "              reg_alpha=0, reg_lambda=1, scale_pos_weight=1, subsample=1,\n",
       "              tree_method='exact', validate_parameters=1, verbosity=None)"
      ]
     },
     "execution_count": 69,
     "metadata": {},
     "output_type": "execute_result"
    }
   ],
   "source": [
    "xgb = XGBClassifier()\n",
    "xgb.fit(X_train, y_train)"
   ]
  },
  {
   "cell_type": "code",
   "execution_count": 72,
   "metadata": {
    "scrolled": true
   },
   "outputs": [],
   "source": [
    "xgb_importances = pd.DataFrame({'columns':X_train.columns, 'importances':xgb.feature_importances_})"
   ]
  },
  {
   "cell_type": "code",
   "execution_count": 93,
   "metadata": {},
   "outputs": [],
   "source": [
    "features = xgb_importances.sort_values(by='importances', ascending = False)['columns'].head(5).values"
   ]
  },
  {
   "cell_type": "code",
   "execution_count": 94,
   "metadata": {},
   "outputs": [
    {
     "data": {
      "text/plain": [
       "XGBClassifier(base_score=0.5, booster='gbtree', colsample_bylevel=1,\n",
       "              colsample_bynode=1, colsample_bytree=1, gamma=0, gpu_id=-1,\n",
       "              importance_type='gain', interaction_constraints='',\n",
       "              learning_rate=0.300000012, max_delta_step=0, max_depth=6,\n",
       "              min_child_weight=1, missing=nan, monotone_constraints='()',\n",
       "              n_estimators=100, n_jobs=0, num_parallel_tree=1, random_state=0,\n",
       "              reg_alpha=0, reg_lambda=1, scale_pos_weight=1, subsample=1,\n",
       "              tree_method='exact', validate_parameters=1, verbosity=None)"
      ]
     },
     "execution_count": 94,
     "metadata": {},
     "output_type": "execute_result"
    }
   ],
   "source": [
    "xgb = XGBClassifier()\n",
    "xgb.fit(X_train[features], y_train)"
   ]
  },
  {
   "cell_type": "code",
   "execution_count": 95,
   "metadata": {
    "scrolled": true
   },
   "outputs": [
    {
     "data": {
      "text/plain": [
       "(0.9971907189678494, 0.9956300072833212)"
      ]
     },
     "execution_count": 95,
     "metadata": {},
     "output_type": "execute_result"
    }
   ],
   "source": [
    "xgb.score(X_train[features], y_train), xgb.score(X_test[features], y_test)"
   ]
  },
  {
   "cell_type": "code",
   "execution_count": 98,
   "metadata": {},
   "outputs": [],
   "source": [
    "# Submit 3\n",
    "y_sub3 = xgb.predict(df_test[features]) # Score: 99.71\n",
    "\n",
    "pd.DataFrame({'NU_INSCRICAO':df_test_n.NU_INSCRICAO,'IN_TREINEIRO':y_sub3}).to_csv(\"answer3.csv\", index= False)"
   ]
  },
  {
   "cell_type": "markdown",
   "metadata": {},
   "source": [
    "**4 Submission: AutoML**"
   ]
  },
  {
   "cell_type": "code",
   "execution_count": 99,
   "metadata": {
    "scrolled": true
   },
   "outputs": [
    {
     "name": "stdout",
     "output_type": "stream",
     "text": [
      "Checking whether there is an H2O instance running at http://localhost:54321 ..... not found.\n",
      "Attempting to start a local H2O server...\n",
      "; Java HotSpot(TM) 64-Bit Server VM (build 25.251-b08, mixed mode)\n",
      "  Starting server from C:\\ProgramData\\Anaconda3\\lib\\site-packages\\h2o\\backend\\bin\\h2o.jar\n",
      "  Ice root: C:\\Users\\laris\\AppData\\Local\\Temp\\tmp3a1wwmul\n",
      "  JVM stdout: C:\\Users\\laris\\AppData\\Local\\Temp\\tmp3a1wwmul\\h2o_laris_started_from_python.out\n",
      "  JVM stderr: C:\\Users\\laris\\AppData\\Local\\Temp\\tmp3a1wwmul\\h2o_laris_started_from_python.err\n",
      "  Server is running at http://127.0.0.1:54321\n",
      "Connecting to H2O server at http://127.0.0.1:54321 ... successful.\n"
     ]
    },
    {
     "data": {
      "text/html": [
       "<div style=\"overflow:auto\"><table style=\"width:50%\"><tr><td>H2O_cluster_uptime:</td>\n",
       "<td>04 secs</td></tr>\n",
       "<tr><td>H2O_cluster_timezone:</td>\n",
       "<td>America/Sao_Paulo</td></tr>\n",
       "<tr><td>H2O_data_parsing_timezone:</td>\n",
       "<td>UTC</td></tr>\n",
       "<tr><td>H2O_cluster_version:</td>\n",
       "<td>3.30.0.7</td></tr>\n",
       "<tr><td>H2O_cluster_version_age:</td>\n",
       "<td>15 days </td></tr>\n",
       "<tr><td>H2O_cluster_name:</td>\n",
       "<td>H2O_from_python_laris_d40d9i</td></tr>\n",
       "<tr><td>H2O_cluster_total_nodes:</td>\n",
       "<td>1</td></tr>\n",
       "<tr><td>H2O_cluster_free_memory:</td>\n",
       "<td>3.514 Gb</td></tr>\n",
       "<tr><td>H2O_cluster_total_cores:</td>\n",
       "<td>8</td></tr>\n",
       "<tr><td>H2O_cluster_allowed_cores:</td>\n",
       "<td>8</td></tr>\n",
       "<tr><td>H2O_cluster_status:</td>\n",
       "<td>accepting new members, healthy</td></tr>\n",
       "<tr><td>H2O_connection_url:</td>\n",
       "<td>http://127.0.0.1:54321</td></tr>\n",
       "<tr><td>H2O_connection_proxy:</td>\n",
       "<td>{\"http\": null, \"https\": null}</td></tr>\n",
       "<tr><td>H2O_internal_security:</td>\n",
       "<td>False</td></tr>\n",
       "<tr><td>H2O_API_Extensions:</td>\n",
       "<td>Amazon S3, Algos, AutoML, Core V3, TargetEncoder, Core V4</td></tr>\n",
       "<tr><td>Python_version:</td>\n",
       "<td>3.7.4 final</td></tr></table></div>"
      ],
      "text/plain": [
       "--------------------------  ---------------------------------------------------------\n",
       "H2O_cluster_uptime:         04 secs\n",
       "H2O_cluster_timezone:       America/Sao_Paulo\n",
       "H2O_data_parsing_timezone:  UTC\n",
       "H2O_cluster_version:        3.30.0.7\n",
       "H2O_cluster_version_age:    15 days\n",
       "H2O_cluster_name:           H2O_from_python_laris_d40d9i\n",
       "H2O_cluster_total_nodes:    1\n",
       "H2O_cluster_free_memory:    3.514 Gb\n",
       "H2O_cluster_total_cores:    8\n",
       "H2O_cluster_allowed_cores:  8\n",
       "H2O_cluster_status:         accepting new members, healthy\n",
       "H2O_connection_url:         http://127.0.0.1:54321\n",
       "H2O_connection_proxy:       {\"http\": null, \"https\": null}\n",
       "H2O_internal_security:      False\n",
       "H2O_API_Extensions:         Amazon S3, Algos, AutoML, Core V3, TargetEncoder, Core V4\n",
       "Python_version:             3.7.4 final\n",
       "--------------------------  ---------------------------------------------------------"
      ]
     },
     "metadata": {},
     "output_type": "display_data"
    }
   ],
   "source": [
    "import h2o\n",
    "from h2o.automl import H2OAutoML\n",
    "\n",
    "h2o.init()"
   ]
  },
  {
   "cell_type": "code",
   "execution_count": null,
   "metadata": {},
   "outputs": [
    {
     "name": "stdout",
     "output_type": "stream",
     "text": [
      "Parse progress: |█████████████████████████████████████████████████████████| 100%\n",
      "AutoML progress: |\n",
      "00:34:21.936: AutoML: XGBoost is not available; skipping it.\n",
      "\n",
      "████████████████████"
     ]
    }
   ],
   "source": [
    "x = X_train.columns.to_list()\n",
    "y = 'IN_TREINEIRO'\n",
    "df = pd.concat([X_train, y_train], axis = 1)\n",
    "hf = h2o.H2OFrame(df)\n",
    "\n",
    "# Run AutoML for 10 base models (limited to 1 hour max runtime by default)\n",
    "aml = H2OAutoML(max_models=10, seed=1)\n",
    "aml.train(x= x, y= y, training_frame= hf)\n",
    "\n",
    "# View the AutoML Leaderboard\n",
    "lb = aml.leaderboard\n",
    "lb.head(rows=lb.nrows)  # Print all rows instead of default (10 rows)"
   ]
  },
  {
   "cell_type": "code",
   "execution_count": 158,
   "metadata": {},
   "outputs": [
    {
     "name": "stdout",
     "output_type": "stream",
     "text": [
      "Parse progress: |█████████████████████████████████████████████████████████| 100%\n"
     ]
    }
   ],
   "source": [
    "# The leader model is stored here: aml.leader\n",
    "\n",
    "hf_X_test = h2o.H2OFrame(X_test)\n",
    "\n",
    "y_pred = aml.predict(hf_X_test)\n",
    "y_pred = y_pred.as_data_frame().predict\n",
    "r2_score(y_pred.apply(f), y_test)"
   ]
  },
  {
   "cell_type": "code",
   "execution_count": 186,
   "metadata": {},
   "outputs": [
    {
     "name": "stdout",
     "output_type": "stream",
     "text": [
      "Parse progress: |█████████████████████████████████████████████████████████| 100%\n",
      "stackedensemble prediction progress: |████████████████████████████████████| 100%\n"
     ]
    }
   ],
   "source": [
    "# Submit 5\n",
    "\n",
    "hf_df_test = h2o.H2OFrame(df_test)\n",
    "\n",
    "y_sub5 = aml.predict(hf_df_test) # Score: 9.83\n",
    "y_sub5 = y_sub5.as_data_frame().predict\n",
    "\n",
    "pd.DataFrame({'NU_INSCRICAO':df_test_n.NU_INSCRICAO,'NU_NOTA_MT':pd.Series(y_sub5).apply(f)}).to_csv(\"answer.csv\", index= False)"
   ]
  },
  {
   "cell_type": "code",
   "execution_count": null,
   "metadata": {},
   "outputs": [],
   "source": []
  }
 ],
 "metadata": {
  "kernelspec": {
   "display_name": "Python 3",
   "language": "python",
   "name": "python3"
  },
  "language_info": {
   "codemirror_mode": {
    "name": "ipython",
    "version": 3
   },
   "file_extension": ".py",
   "mimetype": "text/x-python",
   "name": "python",
   "nbconvert_exporter": "python",
   "pygments_lexer": "ipython3",
   "version": "3.7.4"
  },
  "toc": {
   "base_numbering": 1,
   "nav_menu": {},
   "number_sections": true,
   "sideBar": true,
   "skip_h1_title": false,
   "title_cell": "Table of Contents",
   "title_sidebar": "Contents",
   "toc_cell": false,
   "toc_position": {},
   "toc_section_display": true,
   "toc_window_display": false
  }
 },
 "nbformat": 4,
 "nbformat_minor": 2
}
